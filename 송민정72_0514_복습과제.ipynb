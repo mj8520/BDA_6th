{
 "cells": [
  {
   "cell_type": "markdown",
   "id": "e0c3dba2",
   "metadata": {},
   "source": [
    "# K-최근접 이웃 회귀 (K-Nearest Neighbors)\n",
    "\n",
    "- knn은 지도학습\n",
    "- 지도학습, 정답의 유무\n",
    "\n",
    "- 정답이 없기 때문에 이웃에 대한 라벨을 정할 때 정답이 아닌 실루엣, 엘보우 같은 지표 사용해서 최적의 k를 찾음\n",
    "\n",
    "- 회귀 지도학습 -> 정답이 있다.\n",
    "- 정답에 값을 가지고 k개수를 찾아볼 수 있다.\n",
    "\n",
    "- knn 이웃에 접근하는 방법만 같지 회귀와 분류로 나눠진다.\n",
    "- knn 회귀 (Regression) , 분류도 있다. \n"
   ]
  },
  {
   "cell_type": "markdown",
   "id": "02180c82",
   "metadata": {},
   "source": [
    "- 원리를 살펴보면?\n",
    "- 거리기반의 가장 가까운 k개의 이웃을 찾고 근처 k개의 정답의 평균을 계산해서 예측\n",
    "\n",
    "- 영화평점 데이터에서 가장 가까운 영화 3개가 있는데 평점이 5.0, 6.8, 9.2의 등급을 가졌다면 해당 값은 3개의 평균인 7.0이라고 예측 "
   ]
  },
  {
   "cell_type": "markdown",
   "id": "1a7f7bec",
   "metadata": {},
   "source": [
    "- 3개 영화를 k군집으로 잡았는데, 해당 3개 영화 중 더 가까운 데이터가 있을 것\n",
    "\n",
    "- 단순하게 평균으로만 잡게되면 가중치를 놓칠 수가 있다\n",
    "- 해당 3개 영화의 데이터에 거리까지 입력하여 평점을 예측한다.\n",
    "- 가중평균을 이용해서 거리가 가까울수록 데이터가 더 유사할 것이라 보고 가중치 부여\n"
   ]
  },
  {
   "cell_type": "markdown",
   "id": "280a681f",
   "metadata": {},
   "source": [
    "ex)\n",
    "a영화 : 평점 5.0 / x까지 거리 3.2\n",
    "b영화 : 평점 6.8 / x까지 거리 10.5\n",
    "c영화 : 평점 9.2 / x까지 거리 1.1\n",
    "    \n",
    "단순 평균 계산인 경우는 예측값이 7.0이지만\n",
    "거리기반으로 만약 계산해본다면? 가중평균 다른 값이 나온다\n"
   ]
  },
  {
   "cell_type": "code",
   "execution_count": 1,
   "id": "3ccc5a61",
   "metadata": {},
   "outputs": [
    {
     "data": {
      "text/plain": [
       "7.0"
      ]
     },
     "execution_count": 1,
     "metadata": {},
     "output_type": "execute_result"
    }
   ],
   "source": [
    "(5.0 + 6.8 + 9.2 )/3"
   ]
  },
  {
   "cell_type": "code",
   "execution_count": 2,
   "id": "07a2f1db",
   "metadata": {},
   "outputs": [
    {
     "data": {
      "text/plain": [
       "8.02971029381549"
      ]
     },
     "execution_count": 2,
     "metadata": {},
     "output_type": "execute_result"
    }
   ],
   "source": [
    "(5.0/3.2 + 6.8/10.5 + 9.2/1.1) / (1/3.2 + 1/10.5 + 1/1.1)"
   ]
  },
  {
   "cell_type": "code",
   "execution_count": 3,
   "id": "f886661d",
   "metadata": {},
   "outputs": [],
   "source": [
    "from sklearn.neighbors import KNeighborsRegressor\n",
    "import numpy as np"
   ]
  },
  {
   "cell_type": "code",
   "execution_count": 4,
   "id": "b857651f",
   "metadata": {},
   "outputs": [],
   "source": [
    "x1=np.arange(1,11)\n",
    "x = x1.reshape(-1, 1)\n",
    "y=np.arange(1,11)*5"
   ]
  },
  {
   "cell_type": "code",
   "execution_count": 5,
   "id": "b3ee6ada",
   "metadata": {},
   "outputs": [
    {
     "data": {
      "image/png": "[encoded data removed]",
      "text/plain": [
       "<Figure size 640x480 with 1 Axes>"
      ]
     },
     "metadata": {},
     "output_type": "display_data"
    }
   ],
   "source": [
    "import matplotlib.pyplot as plt\n",
    "plt.figure()\n",
    "plt.scatter(x,y)\n",
    "plt.show()"
   ]
  },
  {
   "cell_type": "code",
   "execution_count": 7,
   "id": "902a21fb",
   "metadata": {},
   "outputs": [],
   "source": [
    "knn_model = KNeighborsRegressor(n_neighbors=2).fit(x,y)"
   ]
  },
  {
   "cell_type": "code",
   "execution_count": 9,
   "id": "3f7a4c40",
   "metadata": {},
   "outputs": [
    {
     "name": "stdout",
     "output_type": "stream",
     "text": [
      "[12.5]\n"
     ]
    }
   ],
   "source": [
    "print(knn_model.predict([[3]]))"
   ]
  },
  {
   "cell_type": "code",
   "execution_count": 10,
   "id": "f4e6b576",
   "metadata": {},
   "outputs": [
    {
     "data": {
      "text/plain": [
       "12.5"
      ]
     },
     "execution_count": 10,
     "metadata": {},
     "output_type": "execute_result"
    }
   ],
   "source": [
    "#x값과 가까운 두 값의 평균\n",
    "\n",
    "(10+15)/2"
   ]
  },
  {
   "cell_type": "code",
   "execution_count": 8,
   "id": "ecc7a12d",
   "metadata": {},
   "outputs": [
    {
     "data": {
      "text/plain": [
       "KNeighborsRegressor(n_neighbors=2)"
      ]
     },
     "execution_count": 8,
     "metadata": {},
     "output_type": "execute_result"
    }
   ],
   "source": [
    "knn_model"
   ]
  },
  {
   "cell_type": "code",
   "execution_count": 12,
   "id": "d0a22b4e",
   "metadata": {},
   "outputs": [
    {
     "name": "stdout",
     "output_type": "stream",
     "text": [
      "[12.5]\n"
     ]
    }
   ],
   "source": [
    "print(knn_model.predict([[3]]))\n",
    "#2와 3의 값의 평균"
   ]
  },
  {
   "cell_type": "markdown",
   "id": "287fd2d3",
   "metadata": {},
   "source": [
    "- knn 단점, 한계"
   ]
  },
  {
   "cell_type": "code",
   "execution_count": 14,
   "id": "36dbb8c8",
   "metadata": {},
   "outputs": [
    {
     "name": "stdout",
     "output_type": "stream",
     "text": [
      "[47.5]\n"
     ]
    }
   ],
   "source": [
    "print(knn_model.predict([[10]]))"
   ]
  },
  {
   "cell_type": "code",
   "execution_count": 15,
   "id": "dbdf6a77",
   "metadata": {},
   "outputs": [
    {
     "name": "stdout",
     "output_type": "stream",
     "text": [
      "[47.5]\n"
     ]
    }
   ],
   "source": [
    "print(knn_model.predict([[15]]))"
   ]
  },
  {
   "cell_type": "code",
   "execution_count": 16,
   "id": "689f1ce6",
   "metadata": {},
   "outputs": [
    {
     "name": "stdout",
     "output_type": "stream",
     "text": [
      "[47.5]\n"
     ]
    }
   ],
   "source": [
    "print(knn_model.predict([[30]]))"
   ]
  },
  {
   "cell_type": "markdown",
   "id": "6dcf186f",
   "metadata": {},
   "source": [
    "- 거리기반이다보니 기존에 나타난 데이터에서 벗어난 범위는 정확하게 예측하기 어렵다."
   ]
  },
  {
   "cell_type": "code",
   "execution_count": 43,
   "id": "2f3d6f71",
   "metadata": {},
   "outputs": [],
   "source": [
    "x1=np.arange(1,11)\n",
    "x = x1.reshape(-1, 1)\n",
    "y=np.arange(1,11)*5"
   ]
  },
  {
   "cell_type": "code",
   "execution_count": 52,
   "id": "4a4d78a8",
   "metadata": {},
   "outputs": [
    {
     "data": {
      "text/plain": [
       "array([[ 1],\n",
       "       [ 2],\n",
       "       [ 3],\n",
       "       [ 4],\n",
       "       [ 5],\n",
       "       [ 6],\n",
       "       [ 7],\n",
       "       [ 8],\n",
       "       [ 9],\n",
       "       [10]])"
      ]
     },
     "execution_count": 52,
     "metadata": {},
     "output_type": "execute_result"
    }
   ],
   "source": [
    "x"
   ]
  },
  {
   "cell_type": "code",
   "execution_count": 54,
   "id": "5ae415f1",
   "metadata": {},
   "outputs": [],
   "source": [
    "# 가중평균을 주고 데이터 값을 예측해보자!\n",
    "\n",
    "knn_model = KNeighborsRegressor(n_neighbors = 2, weights = 'distance').fit(x,y)"
   ]
  },
  {
   "cell_type": "code",
   "execution_count": 62,
   "id": "dc20a21f",
   "metadata": {},
   "outputs": [
    {
     "data": {
      "text/plain": [
       "array([ 5, 10, 15, 20, 25, 30, 35, 40, 45, 50])"
      ]
     },
     "execution_count": 62,
     "metadata": {},
     "output_type": "execute_result"
    }
   ],
   "source": [
    "y"
   ]
  },
  {
   "cell_type": "code",
   "execution_count": 56,
   "id": "9f0f7d5b",
   "metadata": {},
   "outputs": [
    {
     "ename": "AttributeError",
     "evalue": "'list' object has no attribute 'shape'",
     "output_type": "error",
     "traceback": [
      "\u001b[1;31m---------------------------------------------------------------------------\u001b[0m",
      "\u001b[1;31mAttributeError\u001b[0m                            Traceback (most recent call last)",
      "\u001b[1;32mC:\\Temp\\ipykernel_20144\\3147922461.py\u001b[0m in \u001b[0;36m<module>\u001b[1;34m\u001b[0m\n\u001b[1;32m----> 1\u001b[1;33m \u001b[0mprint\u001b[0m\u001b[1;33m(\u001b[0m\u001b[0mknn_model\u001b[0m\u001b[1;33m.\u001b[0m\u001b[0mpredict\u001b[0m\u001b[1;33m(\u001b[0m\u001b[1;33m[\u001b[0m\u001b[1;33m[\u001b[0m\u001b[1;36m3\u001b[0m\u001b[1;33m]\u001b[0m\u001b[1;33m]\u001b[0m\u001b[1;33m)\u001b[0m\u001b[1;33m)\u001b[0m\u001b[1;33m\u001b[0m\u001b[1;33m\u001b[0m\u001b[0m\n\u001b[0m",
      "\u001b[1;32m~\\anaconda3\\lib\\site-packages\\sklearn\\neighbors\\_regression.py\u001b[0m in \u001b[0;36mpredict\u001b[1;34m(self, X)\u001b[0m\n\u001b[0;32m    238\u001b[0m             \u001b[0my_pred\u001b[0m \u001b[1;33m=\u001b[0m \u001b[0mnp\u001b[0m\u001b[1;33m.\u001b[0m\u001b[0mmean\u001b[0m\u001b[1;33m(\u001b[0m\u001b[0m_y\u001b[0m\u001b[1;33m[\u001b[0m\u001b[0mneigh_ind\u001b[0m\u001b[1;33m]\u001b[0m\u001b[1;33m,\u001b[0m \u001b[0maxis\u001b[0m\u001b[1;33m=\u001b[0m\u001b[1;36m1\u001b[0m\u001b[1;33m)\u001b[0m\u001b[1;33m\u001b[0m\u001b[1;33m\u001b[0m\u001b[0m\n\u001b[0;32m    239\u001b[0m         \u001b[1;32melse\u001b[0m\u001b[1;33m:\u001b[0m\u001b[1;33m\u001b[0m\u001b[1;33m\u001b[0m\u001b[0m\n\u001b[1;32m--> 240\u001b[1;33m             \u001b[0my_pred\u001b[0m \u001b[1;33m=\u001b[0m \u001b[0mnp\u001b[0m\u001b[1;33m.\u001b[0m\u001b[0mempty\u001b[0m\u001b[1;33m(\u001b[0m\u001b[1;33m(\u001b[0m\u001b[0mX\u001b[0m\u001b[1;33m.\u001b[0m\u001b[0mshape\u001b[0m\u001b[1;33m[\u001b[0m\u001b[1;36m0\u001b[0m\u001b[1;33m]\u001b[0m\u001b[1;33m,\u001b[0m \u001b[0m_y\u001b[0m\u001b[1;33m.\u001b[0m\u001b[0mshape\u001b[0m\u001b[1;33m[\u001b[0m\u001b[1;36m1\u001b[0m\u001b[1;33m]\u001b[0m\u001b[1;33m)\u001b[0m\u001b[1;33m,\u001b[0m \u001b[0mdtype\u001b[0m\u001b[1;33m=\u001b[0m\u001b[0mnp\u001b[0m\u001b[1;33m.\u001b[0m\u001b[0mfloat64\u001b[0m\u001b[1;33m)\u001b[0m\u001b[1;33m\u001b[0m\u001b[1;33m\u001b[0m\u001b[0m\n\u001b[0m\u001b[0;32m    241\u001b[0m             \u001b[0mdenom\u001b[0m \u001b[1;33m=\u001b[0m \u001b[0mnp\u001b[0m\u001b[1;33m.\u001b[0m\u001b[0msum\u001b[0m\u001b[1;33m(\u001b[0m\u001b[0mweights\u001b[0m\u001b[1;33m,\u001b[0m \u001b[0maxis\u001b[0m\u001b[1;33m=\u001b[0m\u001b[1;36m1\u001b[0m\u001b[1;33m)\u001b[0m\u001b[1;33m\u001b[0m\u001b[1;33m\u001b[0m\u001b[0m\n\u001b[0;32m    242\u001b[0m \u001b[1;33m\u001b[0m\u001b[0m\n",
      "\u001b[1;31mAttributeError\u001b[0m: 'list' object has no attribute 'shape'"
     ]
    }
   ],
   "source": [
    "print(knn_model.predict([[3]]))\n",
    "#같은 코드인데 제 컴퓨터에선 안되네요 ..."
   ]
  },
  {
   "cell_type": "markdown",
   "id": "aafd6f14",
   "metadata": {},
   "source": [
    "- weights='uniform' 거리기반 파라미터 {'uniform' 디폴트값, 'distance' 거리기반}, 사용자함수로 거리를 만들 수 있다.\n",
    "\n",
    "- algorithm = 'auto', Brute Force, K-DTree, Ball Tree 등이 있다.\n",
    "\n",
    "- p 값 \n",
    "- 민코프스키 거리를 가지고 차수를 증가해서 p1 민코프스키, p2 유클리디안 p값이 올라갈수록 쳬비셰프거리\n",
    "\n",
    "- 거리를 어떤 식으로 측정하냐에 따라서 달라질 수 있다."
   ]
  },
  {
   "cell_type": "code",
   "execution_count": 64,
   "id": "476fe5cf",
   "metadata": {},
   "outputs": [],
   "source": [
    "from sklearn.datasets import load_boston \n",
    "from sklearn.model_selection import train_test_split\n",
    "from sklearn.metrics import mean_squared_error\n",
    "from math import sqrt\n",
    "import pandas as pd\n"
   ]
  },
  {
   "cell_type": "code",
   "execution_count": 75,
   "id": "d86f4460",
   "metadata": {},
   "outputs": [
    {
     "name": "stderr",
     "output_type": "stream",
     "text": [
      "C:\\Users\\gram\\anaconda3\\lib\\site-packages\\sklearn\\utils\\deprecation.py:87: FutureWarning: Function load_boston is deprecated; `load_boston` is deprecated in 1.0 and will be removed in 1.2.\n",
      "\n",
      "    The Boston housing prices dataset has an ethical problem. You can refer to\n",
      "    the documentation of this function for further details.\n",
      "\n",
      "    The scikit-learn maintainers therefore strongly discourage the use of this\n",
      "    dataset unless the purpose of the code is to study and educate about\n",
      "    ethical issues in data science and machine learning.\n",
      "\n",
      "    In this special case, you can fetch the dataset from the original\n",
      "    source::\n",
      "\n",
      "        import pandas as pd\n",
      "        import numpy as np\n",
      "\n",
      "\n",
      "        data_url = \"http://lib.stat.cmu.edu/datasets/boston\"\n",
      "        raw_df = pd.read_csv(data_url, sep=\"\\s+\", skiprows=22, header=None)\n",
      "        data = np.hstack([raw_df.values[::2, :], raw_df.values[1::2, :2]])\n",
      "        target = raw_df.values[1::2, 2]\n",
      "\n",
      "    Alternative datasets include the California housing dataset (i.e.\n",
      "    :func:`~sklearn.datasets.fetch_california_housing`) and the Ames housing\n",
      "    dataset. You can load the datasets as follows::\n",
      "\n",
      "        from sklearn.datasets import fetch_california_housing\n",
      "        housing = fetch_california_housing()\n",
      "\n",
      "    for the California housing dataset and::\n",
      "\n",
      "        from sklearn.datasets import fetch_openml\n",
      "        housing = fetch_openml(name=\"house_prices\", as_frame=True)\n",
      "\n",
      "    for the Ames housing dataset.\n",
      "    \n",
      "  warnings.warn(msg, category=FutureWarning)\n"
     ]
    },
    {
     "data": {
      "text/html": [
       "<div>\n",
       "<style scoped>\n",
       "    .dataframe tbody tr th:only-of-type {\n",
       "        vertical-align: middle;\n",
       "    }\n",
       "\n",
       "    .dataframe tbody tr th {\n",
       "        vertical-align: top;\n",
       "    }\n",
       "\n",
       "    .dataframe thead th {\n",
       "        text-align: right;\n",
       "    }\n",
       "</style>\n",
       "<table border=\"1\" class=\"dataframe\">\n",
       "  <thead>\n",
       "    <tr style=\"text-align: right;\">\n",
       "      <th></th>\n",
       "      <th>CRIM</th>\n",
       "      <th>ZN</th>\n",
       "      <th>INDUS</th>\n",
       "      <th>CHAS</th>\n",
       "      <th>NOX</th>\n",
       "      <th>RM</th>\n",
       "      <th>AGE</th>\n",
       "      <th>DIS</th>\n",
       "      <th>RAD</th>\n",
       "      <th>TAX</th>\n",
       "      <th>PTRATIO</th>\n",
       "      <th>B</th>\n",
       "      <th>LSTAT</th>\n",
       "      <th>target</th>\n",
       "    </tr>\n",
       "  </thead>\n",
       "  <tbody>\n",
       "    <tr>\n",
       "      <th>0</th>\n",
       "      <td>0.00632</td>\n",
       "      <td>18.0</td>\n",
       "      <td>2.31</td>\n",
       "      <td>0.0</td>\n",
       "      <td>0.538</td>\n",
       "      <td>6.575</td>\n",
       "      <td>65.2</td>\n",
       "      <td>4.0900</td>\n",
       "      <td>1.0</td>\n",
       "      <td>296.0</td>\n",
       "      <td>15.3</td>\n",
       "      <td>396.90</td>\n",
       "      <td>4.98</td>\n",
       "      <td>24.0</td>\n",
       "    </tr>\n",
       "    <tr>\n",
       "      <th>1</th>\n",
       "      <td>0.02731</td>\n",
       "      <td>0.0</td>\n",
       "      <td>7.07</td>\n",
       "      <td>0.0</td>\n",
       "      <td>0.469</td>\n",
       "      <td>6.421</td>\n",
       "      <td>78.9</td>\n",
       "      <td>4.9671</td>\n",
       "      <td>2.0</td>\n",
       "      <td>242.0</td>\n",
       "      <td>17.8</td>\n",
       "      <td>396.90</td>\n",
       "      <td>9.14</td>\n",
       "      <td>21.6</td>\n",
       "    </tr>\n",
       "    <tr>\n",
       "      <th>2</th>\n",
       "      <td>0.02729</td>\n",
       "      <td>0.0</td>\n",
       "      <td>7.07</td>\n",
       "      <td>0.0</td>\n",
       "      <td>0.469</td>\n",
       "      <td>7.185</td>\n",
       "      <td>61.1</td>\n",
       "      <td>4.9671</td>\n",
       "      <td>2.0</td>\n",
       "      <td>242.0</td>\n",
       "      <td>17.8</td>\n",
       "      <td>392.83</td>\n",
       "      <td>4.03</td>\n",
       "      <td>34.7</td>\n",
       "    </tr>\n",
       "    <tr>\n",
       "      <th>3</th>\n",
       "      <td>0.03237</td>\n",
       "      <td>0.0</td>\n",
       "      <td>2.18</td>\n",
       "      <td>0.0</td>\n",
       "      <td>0.458</td>\n",
       "      <td>6.998</td>\n",
       "      <td>45.8</td>\n",
       "      <td>6.0622</td>\n",
       "      <td>3.0</td>\n",
       "      <td>222.0</td>\n",
       "      <td>18.7</td>\n",
       "      <td>394.63</td>\n",
       "      <td>2.94</td>\n",
       "      <td>33.4</td>\n",
       "    </tr>\n",
       "    <tr>\n",
       "      <th>4</th>\n",
       "      <td>0.06905</td>\n",
       "      <td>0.0</td>\n",
       "      <td>2.18</td>\n",
       "      <td>0.0</td>\n",
       "      <td>0.458</td>\n",
       "      <td>7.147</td>\n",
       "      <td>54.2</td>\n",
       "      <td>6.0622</td>\n",
       "      <td>3.0</td>\n",
       "      <td>222.0</td>\n",
       "      <td>18.7</td>\n",
       "      <td>396.90</td>\n",
       "      <td>5.33</td>\n",
       "      <td>36.2</td>\n",
       "    </tr>\n",
       "    <tr>\n",
       "      <th>...</th>\n",
       "      <td>...</td>\n",
       "      <td>...</td>\n",
       "      <td>...</td>\n",
       "      <td>...</td>\n",
       "      <td>...</td>\n",
       "      <td>...</td>\n",
       "      <td>...</td>\n",
       "      <td>...</td>\n",
       "      <td>...</td>\n",
       "      <td>...</td>\n",
       "      <td>...</td>\n",
       "      <td>...</td>\n",
       "      <td>...</td>\n",
       "      <td>...</td>\n",
       "    </tr>\n",
       "    <tr>\n",
       "      <th>501</th>\n",
       "      <td>0.06263</td>\n",
       "      <td>0.0</td>\n",
       "      <td>11.93</td>\n",
       "      <td>0.0</td>\n",
       "      <td>0.573</td>\n",
       "      <td>6.593</td>\n",
       "      <td>69.1</td>\n",
       "      <td>2.4786</td>\n",
       "      <td>1.0</td>\n",
       "      <td>273.0</td>\n",
       "      <td>21.0</td>\n",
       "      <td>391.99</td>\n",
       "      <td>9.67</td>\n",
       "      <td>22.4</td>\n",
       "    </tr>\n",
       "    <tr>\n",
       "      <th>502</th>\n",
       "      <td>0.04527</td>\n",
       "      <td>0.0</td>\n",
       "      <td>11.93</td>\n",
       "      <td>0.0</td>\n",
       "      <td>0.573</td>\n",
       "      <td>6.120</td>\n",
       "      <td>76.7</td>\n",
       "      <td>2.2875</td>\n",
       "      <td>1.0</td>\n",
       "      <td>273.0</td>\n",
       "      <td>21.0</td>\n",
       "      <td>396.90</td>\n",
       "      <td>9.08</td>\n",
       "      <td>20.6</td>\n",
       "    </tr>\n",
       "    <tr>\n",
       "      <th>503</th>\n",
       "      <td>0.06076</td>\n",
       "      <td>0.0</td>\n",
       "      <td>11.93</td>\n",
       "      <td>0.0</td>\n",
       "      <td>0.573</td>\n",
       "      <td>6.976</td>\n",
       "      <td>91.0</td>\n",
       "      <td>2.1675</td>\n",
       "      <td>1.0</td>\n",
       "      <td>273.0</td>\n",
       "      <td>21.0</td>\n",
       "      <td>396.90</td>\n",
       "      <td>5.64</td>\n",
       "      <td>23.9</td>\n",
       "    </tr>\n",
       "    <tr>\n",
       "      <th>504</th>\n",
       "      <td>0.10959</td>\n",
       "      <td>0.0</td>\n",
       "      <td>11.93</td>\n",
       "      <td>0.0</td>\n",
       "      <td>0.573</td>\n",
       "      <td>6.794</td>\n",
       "      <td>89.3</td>\n",
       "      <td>2.3889</td>\n",
       "      <td>1.0</td>\n",
       "      <td>273.0</td>\n",
       "      <td>21.0</td>\n",
       "      <td>393.45</td>\n",
       "      <td>6.48</td>\n",
       "      <td>22.0</td>\n",
       "    </tr>\n",
       "    <tr>\n",
       "      <th>505</th>\n",
       "      <td>0.04741</td>\n",
       "      <td>0.0</td>\n",
       "      <td>11.93</td>\n",
       "      <td>0.0</td>\n",
       "      <td>0.573</td>\n",
       "      <td>6.030</td>\n",
       "      <td>80.8</td>\n",
       "      <td>2.5050</td>\n",
       "      <td>1.0</td>\n",
       "      <td>273.0</td>\n",
       "      <td>21.0</td>\n",
       "      <td>396.90</td>\n",
       "      <td>7.88</td>\n",
       "      <td>11.9</td>\n",
       "    </tr>\n",
       "  </tbody>\n",
       "</table>\n",
       "<p>506 rows × 14 columns</p>\n",
       "</div>"
      ],
      "text/plain": [
       "        CRIM    ZN  INDUS  CHAS    NOX     RM   AGE     DIS  RAD    TAX  \\\n",
       "0    0.00632  18.0   2.31   0.0  0.538  6.575  65.2  4.0900  1.0  296.0   \n",
       "1    0.02731   0.0   7.07   0.0  0.469  6.421  78.9  4.9671  2.0  242.0   \n",
       "2    0.02729   0.0   7.07   0.0  0.469  7.185  61.1  4.9671  2.0  242.0   \n",
       "3    0.03237   0.0   2.18   0.0  0.458  6.998  45.8  6.0622  3.0  222.0   \n",
       "4    0.06905   0.0   2.18   0.0  0.458  7.147  54.2  6.0622  3.0  222.0   \n",
       "..       ...   ...    ...   ...    ...    ...   ...     ...  ...    ...   \n",
       "501  0.06263   0.0  11.93   0.0  0.573  6.593  69.1  2.4786  1.0  273.0   \n",
       "502  0.04527   0.0  11.93   0.0  0.573  6.120  76.7  2.2875  1.0  273.0   \n",
       "503  0.06076   0.0  11.93   0.0  0.573  6.976  91.0  2.1675  1.0  273.0   \n",
       "504  0.10959   0.0  11.93   0.0  0.573  6.794  89.3  2.3889  1.0  273.0   \n",
       "505  0.04741   0.0  11.93   0.0  0.573  6.030  80.8  2.5050  1.0  273.0   \n",
       "\n",
       "     PTRATIO       B  LSTAT  target  \n",
       "0       15.3  396.90   4.98    24.0  \n",
       "1       17.8  396.90   9.14    21.6  \n",
       "2       17.8  392.83   4.03    34.7  \n",
       "3       18.7  394.63   2.94    33.4  \n",
       "4       18.7  396.90   5.33    36.2  \n",
       "..       ...     ...    ...     ...  \n",
       "501     21.0  391.99   9.67    22.4  \n",
       "502     21.0  396.90   9.08    20.6  \n",
       "503     21.0  396.90   5.64    23.9  \n",
       "504     21.0  393.45   6.48    22.0  \n",
       "505     21.0  396.90   7.88    11.9  \n",
       "\n",
       "[506 rows x 14 columns]"
      ]
     },
     "execution_count": 75,
     "metadata": {},
     "output_type": "execute_result"
    }
   ],
   "source": [
    "boston = load_boston()\n",
    "\n",
    "data = pd.DataFrame(boston['data'], columns = boston['feature_names'])\n",
    "target = pd.DataFrame(boston['target'], columns = ['target'])\n",
    "\n",
    "df = pd.concat([data,target], axis=1)\n",
    "df"
   ]
  },
  {
   "cell_type": "code",
   "execution_count": 92,
   "id": "a155b78e",
   "metadata": {},
   "outputs": [],
   "source": [
    "X_train, x_test, y_train, y_test = train_test_split(boston.data, boston.target, test_size=0.2)"
   ]
  },
  {
   "cell_type": "code",
   "execution_count": 93,
   "id": "ccfdb3e4",
   "metadata": {},
   "outputs": [
    {
     "data": {
      "text/plain": [
       "array([[3.69200e-01, 0.00000e+00, 9.90000e+00, ..., 1.84000e+01,\n",
       "        3.95690e+02, 9.28000e+00],\n",
       "       [2.90900e-01, 0.00000e+00, 2.18900e+01, ..., 2.12000e+01,\n",
       "        3.88080e+02, 2.41600e+01],\n",
       "       [6.26300e-02, 0.00000e+00, 1.19300e+01, ..., 2.10000e+01,\n",
       "        3.91990e+02, 9.67000e+00],\n",
       "       ...,\n",
       "       [4.68400e-02, 0.00000e+00, 3.41000e+00, ..., 1.78000e+01,\n",
       "        3.92180e+02, 8.81000e+00],\n",
       "       [5.73116e+00, 0.00000e+00, 1.81000e+01, ..., 2.02000e+01,\n",
       "        3.95280e+02, 7.01000e+00],\n",
       "       [6.63510e-01, 2.00000e+01, 3.97000e+00, ..., 1.30000e+01,\n",
       "        3.83290e+02, 7.79000e+00]])"
      ]
     },
     "execution_count": 93,
     "metadata": {},
     "output_type": "execute_result"
    }
   ],
   "source": [
    "X_train"
   ]
  },
  {
   "cell_type": "markdown",
   "id": "7fb49f44",
   "metadata": {},
   "source": [
    "# 회귀이기 때문에 정답에 대해서 평가하는 방법이 RMSE\n",
    "- k값의 변화에 따라 어떤 식으로 값이 달라지는지 확인해보자"
   ]
  },
  {
   "cell_type": "code",
   "execution_count": 79,
   "id": "fdbb11db",
   "metadata": {},
   "outputs": [],
   "source": [
    "from sklearn import neighbors"
   ]
  },
  {
   "cell_type": "code",
   "execution_count": 94,
   "id": "e681ecd6",
   "metadata": {},
   "outputs": [
    {
     "name": "stdout",
     "output_type": "stream",
     "text": [
      "RMSE value k 1 = 6.991858009955047\n",
      "RMSE value k 2 = 7.158164130940991\n",
      "RMSE value k 3 = 6.188192425110589\n",
      "RMSE value k 4 = 5.928778682550619\n",
      "RMSE value k 5 = 5.988332773966784\n",
      "RMSE value k 6 = 6.093694060130928\n",
      "RMSE value k 7 = 6.217044527511671\n",
      "RMSE value k 8 = 6.323640552773875\n",
      "RMSE value k 9 = 6.32039528148052\n",
      "RMSE value k 10 = 6.4458719880458775\n",
      "RMSE value k 11 = 6.3121957690646155\n",
      "RMSE value k 12 = 6.354703047113489\n",
      "RMSE value k 13 = 6.3223418614700195\n",
      "RMSE value k 14 = 6.500717670541679\n",
      "RMSE value k 15 = 6.4931656042542265\n",
      "RMSE value k 16 = 6.511167348878236\n",
      "RMSE value k 17 = 6.54000929838064\n",
      "RMSE value k 18 = 6.5686434656586234\n",
      "RMSE value k 19 = 6.5521904394342885\n",
      "RMSE value k 20 = 6.548823704434615\n"
     ]
    }
   ],
   "source": [
    "rmse_val =[]\n",
    "for K in range(20):\n",
    "    K = K+1\n",
    "    model = neighbors.KNeighborsRegressor(n_neighbors = K)\n",
    "    model.fit(X_train, y_train)\n",
    "    pred = model.predict(x_test)\n",
    "    error = sqrt(mean_squared_error(y_test,pred))\n",
    "    rmse_val.append(error)\n",
    "    print('RMSE value k',K,'=',error)\n",
    "\n",
    "#왜 안달라지지"
   ]
  },
  {
   "cell_type": "code",
   "execution_count": 95,
   "id": "9273300a",
   "metadata": {},
   "outputs": [
    {
     "name": "stdout",
     "output_type": "stream",
     "text": [
      "RMSE value k 1 = 6.991858009955047\n",
      "RMSE value k 2 = 6.869837381479873\n",
      "RMSE value k 3 = 6.114052791763315\n",
      "RMSE value k 4 = 5.850022581156442\n",
      "RMSE value k 5 = 5.830589679279124\n",
      "RMSE value k 6 = 5.850181445122961\n",
      "RMSE value k 7 = 5.9242975166427305\n",
      "RMSE value k 8 = 5.935116361222229\n",
      "RMSE value k 9 = 5.93493535387701\n",
      "RMSE value k 10 = 6.003583060302957\n",
      "RMSE value k 11 = 5.876335237299137\n",
      "RMSE value k 12 = 5.874752700110766\n",
      "RMSE value k 13 = 5.821763081956603\n",
      "RMSE value k 14 = 5.9335516823911645\n",
      "RMSE value k 15 = 5.929063239071093\n",
      "RMSE value k 16 = 5.933828295617679\n",
      "RMSE value k 17 = 5.936065074458213\n",
      "RMSE value k 18 = 5.95815263765007\n",
      "RMSE value k 19 = 5.955261705404557\n",
      "RMSE value k 20 = 5.951202238169891\n",
      "가장 최소 rmse 5.821763081956603 가장 최소 k 12\n"
     ]
    }
   ],
   "source": [
    "rmse_val=[]\n",
    "\n",
    "for K in range(20):\n",
    "    K=K+1\n",
    "    model=neighbors.KNeighborsRegressor(n_neighbors=K, weights='distance')\n",
    "    model.fit(X_train, y_train)\n",
    "    pred=model.predict(x_test)\n",
    "    error=np.sqrt(mean_squared_error(y_test, pred))\n",
    "    rmse_val.append(error)\n",
    "    print('RMSE value k', K ,'=', error)\n",
    "print('가장 최소 rmse', min(rmse_val), '가장 최소 k', rmse_val.index(min(rmse_val)))"
   ]
  },
  {
   "cell_type": "code",
   "execution_count": 96,
   "id": "112951ec",
   "metadata": {},
   "outputs": [
    {
     "data": {
      "text/plain": [
       "<AxesSubplot:>"
      ]
     },
     "execution_count": 96,
     "metadata": {},
     "output_type": "execute_result"
    },
    {
     "data": {
      "image/png": "[encoded data removed]",
      "text/plain": [
       "<Figure size 640x480 with 1 Axes>"
      ]
     },
     "metadata": {},
     "output_type": "display_data"
    }
   ],
   "source": [
    "curve=pd.DataFrame(rmse_val)\n",
    "curve.plot()"
   ]
  },
  {
   "cell_type": "code",
   "execution_count": 97,
   "id": "165610a8",
   "metadata": {},
   "outputs": [],
   "source": [
    "import numpy as np\n",
    "import matplotlib.pyplot as plt\n",
    "from sklearn import neighbors\n",
    "\n",
    "np.random.seed(0)\n",
    "X = np.sort(5 * np.random.rand(40, 1), axis=0)\n",
    "T = np.linspace(0, 5, 500)[:, np.newaxis]\n",
    "y = np.sin(X).ravel()\n",
    "\n",
    "# Add noise to targets\n",
    "y[::5] += 1 * (0.5 - np.random.rand(8))"
   ]
  },
  {
   "cell_type": "code",
   "execution_count": 98,
   "id": "27d97693",
   "metadata": {},
   "outputs": [
    {
     "data": {
      "image/png": "[encoded data removed]",
      "text/plain": [
       "<Figure size 640x480 with 2 Axes>"
      ]
     },
     "metadata": {},
     "output_type": "display_data"
    }
   ],
   "source": [
    "n_neighbors = 5\n",
    "\n",
    "for i, weights in enumerate([\"uniform\", \"distance\"]):\n",
    "    knn = neighbors.KNeighborsRegressor(n_neighbors, weights=weights)\n",
    "    y_ = knn.fit(X, y).predict(T)\n",
    "\n",
    "    plt.subplot(2, 1, i + 1)\n",
    "    plt.scatter(X, y, color=\"darkorange\", label=\"data\")\n",
    "    plt.plot(T, y_, color=\"navy\", label=\"prediction\")\n",
    "    plt.axis(\"tight\")\n",
    "    plt.legend()\n",
    "    plt.title(\"KNeighborsRegressor (k = %i, weights = '%s')\" % (n_neighbors, weights))\n",
    "\n",
    "plt.tight_layout()\n",
    "plt.show()"
   ]
  },
  {
   "cell_type": "code",
   "execution_count": 111,
   "id": "e099cbfd",
   "metadata": {},
   "outputs": [
    {
     "name": "stdout",
     "output_type": "stream",
     "text": [
      "RMSE value k 1 = 7.088875571114583\n",
      "RMSE value k 2 = 6.952094520653148\n",
      "RMSE value k 3 = 6.09066804637855\n",
      "RMSE value k 4 = 5.921846337175839\n",
      "RMSE value k 5 = 5.893434944702748\n",
      "RMSE value k 6 = 5.923511092613458\n",
      "RMSE value k 7 = 5.6424780416971165\n",
      "RMSE value k 8 = 5.720644771218083\n",
      "RMSE value k 9 = 5.7204872817759815\n",
      "RMSE value k 10 = 5.720395223716545\n",
      "RMSE value k 11 = 5.717062272923566\n",
      "RMSE value k 12 = 5.706549210424985\n",
      "RMSE value k 13 = 5.642274460583208\n",
      "RMSE value k 14 = 5.676314880537827\n",
      "RMSE value k 15 = 5.697053238035604\n",
      "RMSE value k 16 = 5.733177803195962\n",
      "RMSE value k 17 = 5.723575030704102\n",
      "RMSE value k 18 = 5.717843215710261\n",
      "RMSE value k 19 = 5.754410743368379\n",
      "RMSE value k 20 = 5.721638669387607\n",
      "가장최소 rmse 5.642274460583208 가장 최소 k 12\n"
     ]
    }
   ],
   "source": [
    "#민코프스키 거리 \n",
    "rmse_val =[]\n",
    "for K in range(20):\n",
    "    K = K+1\n",
    "    model = neighbors.KNeighborsRegressor(n_neighbors = K,weights='distance',p=1)\n",
    "    model.fit(X_train, y_train)\n",
    "    pred = model.predict(x_test)\n",
    "    error = sqrt(mean_squared_error(y_test,pred))\n",
    "    rmse_val.append(error)\n",
    "    print('RMSE value k',K,'=',error)\n",
    "print('가장최소 rmse',min(rmse_val), '가장 최소 k', rmse_val.index(min(rmse_val)))"
   ]
  },
  {
   "cell_type": "code",
   "execution_count": 108,
   "id": "1a112a32",
   "metadata": {},
   "outputs": [
    {
     "name": "stdout",
     "output_type": "stream",
     "text": [
      "RMSE value k 1 = 6.991858009955047\n",
      "RMSE value k 2 = 6.869837381479873\n",
      "RMSE value k 3 = 6.114052791763315\n",
      "RMSE value k 4 = 5.850022581156442\n",
      "RMSE value k 5 = 5.830589679279124\n",
      "RMSE value k 6 = 5.850181445122961\n",
      "RMSE value k 7 = 5.9242975166427305\n",
      "RMSE value k 8 = 5.935116361222229\n",
      "RMSE value k 9 = 5.93493535387701\n",
      "RMSE value k 10 = 6.003583060302957\n",
      "RMSE value k 11 = 5.876335237299137\n",
      "RMSE value k 12 = 5.874752700110766\n",
      "RMSE value k 13 = 5.821763081956603\n",
      "RMSE value k 14 = 5.9335516823911645\n",
      "RMSE value k 15 = 5.929063239071093\n",
      "RMSE value k 16 = 5.933828295617679\n",
      "RMSE value k 17 = 5.936065074458213\n",
      "RMSE value k 18 = 5.95815263765007\n",
      "RMSE value k 19 = 5.955261705404557\n",
      "RMSE value k 20 = 5.951202238169891\n",
      "가장최소 rmse 5.642274460583208 가장 최소 k 12\n"
     ]
    }
   ],
   "source": [
    "#유클리디안 거리\n",
    "for K in range(20):\n",
    "    K=K+1\n",
    "    model=neighbors.KNeighborsRegressor(n_neighbors=K, weights='distance', p=2)\n",
    "    model.fit(X_train, y_train)\n",
    "    pred=model.predict(x_test)\n",
    "    error=np.sqrt(mean_squared_error(y_test, pred))\n",
    "    rmse_val.append(error)\n",
    "    print('RMSE value k', K ,'=', error)\n",
    "print('가장최소 rmse',min(rmse_val), '가장 최소 k', rmse_val.index(min(rmse_val)))"
   ]
  },
  {
   "cell_type": "code",
   "execution_count": 110,
   "id": "8c1f7cf6",
   "metadata": {
    "scrolled": true
   },
   "outputs": [
    {
     "name": "stdout",
     "output_type": "stream",
     "text": [
      "RMSE value k 1 = 7.009552305918814\n",
      "RMSE value k 2 = 7.142547661002891\n",
      "RMSE value k 3 = 6.397339647281669\n",
      "RMSE value k 4 = 6.002315394209467\n",
      "RMSE value k 5 = 6.058378442619284\n",
      "RMSE value k 6 = 5.9808092551211285\n",
      "RMSE value k 7 = 6.060504276824615\n",
      "RMSE value k 8 = 6.053273377690282\n",
      "RMSE value k 9 = 6.04538005679971\n",
      "RMSE value k 10 = 5.999649653667621\n",
      "RMSE value k 11 = 5.9831952762351435\n",
      "RMSE value k 12 = 5.952448056321488\n",
      "RMSE value k 13 = 6.012416138154727\n",
      "RMSE value k 14 = 6.107474255480143\n",
      "RMSE value k 15 = 6.090300846894213\n",
      "RMSE value k 16 = 6.0363584245938\n",
      "RMSE value k 17 = 5.9604073980572405\n",
      "RMSE value k 18 = 5.937586796848331\n",
      "RMSE value k 19 = 5.960521703210644\n",
      "RMSE value k 20 = 5.99553112515514\n",
      "가장최소 rmse 5.642274460583208 가장 최소 k 12\n"
     ]
    }
   ],
   "source": [
    "#쳬비셰프거리\n",
    "for K in range(20):\n",
    "    K=K+1\n",
    "    model=neighbors.KNeighborsRegressor(n_neighbors=K, weights='distance', p=3)\n",
    "    model.fit(X_train, y_train)\n",
    "    pred=model.predict(x_test)\n",
    "    error=np.sqrt(mean_squared_error(y_test, pred))\n",
    "    rmse_val.append(error)\n",
    "    print('RMSE value k', K ,'=', error)\n",
    "print('가장최소 rmse',min(rmse_val), '가장 최소 k', rmse_val.index(min(rmse_val)))"
   ]
  },
  {
   "cell_type": "markdown",
   "id": "e33d0b21",
   "metadata": {},
   "source": [
    "# RadiusNeighborsRegressor(radius=K)\n",
    "- 고정된 반지름의 길이를 지정하여 그 기반으로 근접이웃을 설정하여 값을 계산한다."
   ]
  }
 ],
 "metadata": {
  "kernelspec": {
   "display_name": "Python 3 (ipykernel)",
   "language": "python",
   "name": "python3"
  },
  "language_info": {
   "codemirror_mode": {
    "name": "ipython",
    "version": 3
   },
   "file_extension": ".py",
   "mimetype": "text/x-python",
   "name": "python",
   "nbconvert_exporter": "python",
   "pygments_lexer": "ipython3",
   "version": "3.9.13"
  }
 },
 "nbformat": 4,
 "nbformat_minor": 5
}
