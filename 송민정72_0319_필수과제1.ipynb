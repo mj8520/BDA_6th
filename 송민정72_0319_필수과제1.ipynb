{
 "cells": [
  {
   "cell_type": "code",
   "execution_count": 165,
   "id": "0d9fbfc2",
   "metadata": {},
   "outputs": [],
   "source": [
    "import seaborn as sns\n",
    "df = sns.load_dataset('titanic')\n",
    "df_tt=df[['survived','pclass','age','sibsp','parch','fare']]\n",
    "df_tt_x=df_tt[['pclass','age','sibsp','parch','fare']]\n",
    "df_tt_y=df_tt['survived']"
   ]
  },
  {
   "cell_type": "markdown",
   "id": "31b25813",
   "metadata": {},
   "source": [
    "# LOOCV(Leave-one-out cross-validation)\n",
    "- 단 하나의 관측값만 test set으로 사용, 나머지 n-1는 train set으로 사용\n",
    "- n번의 fitting을 진행하여 n개의 mse의 평균을 최종 MSE로 계산\n",
    "- 데이터 셋이 클 때엔 시간이 오래걸리지만 작은 데이터 셋일 때엔 적합함"
   ]
  },
  {
   "cell_type": "code",
   "execution_count": 166,
   "id": "beba60d0",
   "metadata": {},
   "outputs": [],
   "source": [
    "from sklearn.model_selection import LeaveOneOut\n",
    "from sklearn.tree import DecisionTreeClassifier\n",
    "from sklearn.ensemble import RandomForestClassifier\n",
    "from sklearn.linear_model import LogisticRegression\n",
    "from sklearn.model_selection import cross_val_score\n",
    "import numpy as np\n",
    "import pandas as pd\n",
    "import warnings\n",
    "warnings.filterwarnings('ignore')"
   ]
  },
  {
   "cell_type": "code",
   "execution_count": 167,
   "id": "cfce9b76",
   "metadata": {},
   "outputs": [],
   "source": [
    "import seaborn as sns\n",
    "df = sns.load_dataset('titanic')\n",
    "\n",
    "df_tt=df[['survived','pclass','age','sibsp','parch','fare']]\n",
    "df_tt_x = df_tt[['pclass','sibsp','parch','fare']]\n",
    "df_tt_y = df_tt['survived']"
   ]
  },
  {
   "cell_type": "code",
   "execution_count": 168,
   "id": "29037c5a",
   "metadata": {},
   "outputs": [
    {
     "data": {
      "text/plain": [
       "0.6868686868686869"
      ]
     },
     "execution_count": 168,
     "metadata": {},
     "output_type": "execute_result"
    }
   ],
   "source": [
    "loo=LeaveOneOut()\n",
    "DT=DecisionTreeClassifier(random_state=123)\n",
    "RF=RandomForestClassifier(random_state=123)\n",
    "LR=LogisticRegression(random_state=123)\n",
    "\n",
    "scores=cross_val_score(DT, df_tt_x, df_tt_y, cv=loo)\n",
    "np.mean(scores)"
   ]
  },
  {
   "cell_type": "code",
   "execution_count": 169,
   "id": "34422a93",
   "metadata": {},
   "outputs": [
    {
     "data": {
      "text/plain": [
       "0.6868686868686869"
      ]
     },
     "execution_count": 169,
     "metadata": {},
     "output_type": "execute_result"
    }
   ],
   "source": [
    "scores=cross_val_score(LR, df_tt_x, df_tt_y, cv=loo)\n",
    "np.mean(scores)"
   ]
  },
  {
   "cell_type": "markdown",
   "id": "75b74856",
   "metadata": {},
   "source": [
    "# Suffle split cross validation\n",
    "- 데이터셋 인덱스를 무작위로 설정하여 비율에 따라 분할\n",
    "- train set과 test set의 크기를 유연하게 조절 가능"
   ]
  },
  {
   "cell_type": "code",
   "execution_count": 170,
   "id": "1942f340",
   "metadata": {},
   "outputs": [
    {
     "name": "stdout",
     "output_type": "stream",
     "text": [
      "###############사용한 알고리즘 DT #####################\n",
      "accuracy\n",
      "-\n",
      "[0.66591928 0.67040359 0.66367713 0.69058296 0.69730942 0.65695067\n",
      " 0.67040359 0.62780269]\n",
      "precision\n",
      "-\n",
      "[0.52258065 0.62162162 0.54545455 0.61904762 0.60305344 0.55319149\n",
      " 0.6015625  0.59689922]\n",
      "recall\n",
      "-\n",
      "[0.51572327 0.40697674 0.50898204 0.47647059 0.49685535 0.46666667\n",
      " 0.45086705 0.40740741]\n",
      "f1\n",
      "-\n",
      "[0.51132686 0.48251748 0.52336449 0.53872054 0.53658537 0.49668874\n",
      " 0.51633987 0.485623  ]\n",
      "###############사용한 알고리즘 RF #####################\n",
      "accuracy\n",
      "-\n",
      "[0.65919283 0.67713004 0.65695067 0.69730942 0.68609865 0.64349776\n",
      " 0.67264574 0.65246637]\n",
      "precision\n",
      "-\n",
      "[0.53571429 0.55128205 0.55172414 0.61764706 0.55844156 0.52258065\n",
      " 0.60283688 0.63779528]\n",
      "recall\n",
      "-\n",
      "[0.54716981 0.46511628 0.58083832 0.5        0.52830189 0.49090909\n",
      " 0.4566474  0.43915344]\n",
      "f1\n",
      "-\n",
      "[0.53571429 0.525      0.55294118 0.54901961 0.55520505 0.51497006\n",
      " 0.54258675 0.54545455]\n",
      "###############사용한 알고리즘 LR #####################\n",
      "accuracy\n",
      "-\n",
      "[0.68609865 0.67264574 0.67264574 0.66816143 0.71076233 0.68609865\n",
      " 0.68161435 0.65246637]\n",
      "precision\n",
      "-\n",
      "[0.576      0.61206897 0.58974359 0.57638889 0.61538462 0.5984252\n",
      " 0.65346535 0.64912281]\n",
      "recall\n",
      "-\n",
      "[0.45283019 0.4127907  0.41317365 0.48823529 0.50314465 0.46060606\n",
      " 0.38150289 0.39153439]\n",
      "f1\n",
      "-\n",
      "[0.50704225 0.49305556 0.48591549 0.52866242 0.55363322 0.52054795\n",
      " 0.48175182 0.48844884]\n"
     ]
    }
   ],
   "source": [
    "from sklearn.model_selection import ShuffleSplit\n",
    "shuffle_split=ShuffleSplit(train_size=0.5, test_size=0.5, random_state=123, n_splits=8)\n",
    "model =[DecisionTreeClassifier(),RandomForestClassifier(),LogisticRegression()]\n",
    "name = ['DT','RF','LR']\n",
    "for model, name in zip(model, name):\n",
    "    print('###############사용한 알고리즘',name,'#####################')\n",
    "    for score in ['accuracy','precision','recall','f1']:\n",
    "        print(score)\n",
    "        print('-')\n",
    "        print(cross_val_score(model, df_tt_x, df_tt_y, scoring=score, cv=shuffle_split))"
   ]
  },
  {
   "cell_type": "markdown",
   "id": "e126dff8",
   "metadata": {},
   "source": [
    "# GroupKFold\n",
    "- 데이터가 그룹화 되어있는 경우\n",
    "- 동일한 그룹이 훈련 및 검증 데이터셋에 동시에 포함되지 않도록 한다"
   ]
  },
  {
   "cell_type": "code",
   "execution_count": 171,
   "id": "c5ffd21b",
   "metadata": {},
   "outputs": [],
   "source": [
    "df_tt_x=df_tt[['age','sibsp','parch','fare']]\n",
    "groups=df_tt['pclass'].values"
   ]
  },
  {
   "cell_type": "code",
   "execution_count": 172,
   "id": "58bd361f",
   "metadata": {},
   "outputs": [
    {
     "ename": "TypeError",
     "evalue": "cross_val_score() takes from 2 to 3 positional arguments but 4 positional arguments (and 1 keyword-only argument) were given",
     "output_type": "error",
     "traceback": [
      "\u001b[1;31m---------------------------------------------------------------------------\u001b[0m",
      "\u001b[1;31mTypeError\u001b[0m                                 Traceback (most recent call last)",
      "\u001b[1;32mC:\\Temp\\ipykernel_30324\\2537212342.py\u001b[0m in \u001b[0;36m<module>\u001b[1;34m\u001b[0m\n\u001b[0;32m      1\u001b[0m \u001b[1;32mfrom\u001b[0m \u001b[0msklearn\u001b[0m\u001b[1;33m.\u001b[0m\u001b[0mmodel_selection\u001b[0m \u001b[1;32mimport\u001b[0m \u001b[0mGroupKFold\u001b[0m\u001b[1;33m\u001b[0m\u001b[1;33m\u001b[0m\u001b[0m\n\u001b[0;32m      2\u001b[0m \u001b[0mDT\u001b[0m\u001b[1;33m=\u001b[0m\u001b[0mDecisionTreeClassifier\u001b[0m\u001b[1;33m(\u001b[0m\u001b[0mrandom_state\u001b[0m\u001b[1;33m=\u001b[0m\u001b[1;36m123\u001b[0m\u001b[1;33m)\u001b[0m\u001b[1;33m\u001b[0m\u001b[1;33m\u001b[0m\u001b[0m\n\u001b[1;32m----> 3\u001b[1;33m \u001b[0mcross_val_score\u001b[0m\u001b[1;33m(\u001b[0m\u001b[0mDT\u001b[0m\u001b[1;33m,\u001b[0m\u001b[0mdf_tt_x\u001b[0m\u001b[1;33m,\u001b[0m\u001b[0mdf_tt_y\u001b[0m\u001b[1;33m,\u001b[0m\u001b[0mgroups\u001b[0m\u001b[1;33m,\u001b[0m \u001b[0mcv\u001b[0m\u001b[1;33m=\u001b[0m\u001b[1;33m(\u001b[0m\u001b[0mGroupKFold\u001b[0m\u001b[1;33m(\u001b[0m\u001b[0mn_splits\u001b[0m\u001b[1;33m=\u001b[0m\u001b[1;36m3\u001b[0m\u001b[1;33m)\u001b[0m\u001b[1;33m)\u001b[0m\u001b[1;33m)\u001b[0m\u001b[1;33m\u001b[0m\u001b[1;33m\u001b[0m\u001b[0m\n\u001b[0m",
      "\u001b[1;31mTypeError\u001b[0m: cross_val_score() takes from 2 to 3 positional arguments but 4 positional arguments (and 1 keyword-only argument) were given"
     ]
    }
   ],
   "source": [
    "from sklearn.model_selection import GroupKFold\n",
    "DT=DecisionTreeClassifier(random_state=123)\n",
    "cross_val_score(DT,df_tt_x,df_tt_y,groups, cv=(GroupKFold(n_splits=3)))\n",
    "#오류가 왜 나는지 모르겠습니다.."
   ]
  }
 ],
 "metadata": {
  "kernelspec": {
   "display_name": "Python 3 (ipykernel)",
   "language": "python",
   "name": "python3"
  },
  "language_info": {
   "codemirror_mode": {
    "name": "ipython",
    "version": 3
   },
   "file_extension": ".py",
   "mimetype": "text/x-python",
   "name": "python",
   "nbconvert_exporter": "python",
   "pygments_lexer": "ipython3",
   "version": "3.9.13"
  }
 },
 "nbformat": 4,
 "nbformat_minor": 5
}
