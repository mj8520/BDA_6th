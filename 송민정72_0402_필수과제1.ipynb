{
 "cells": [
  {
   "cell_type": "code",
   "execution_count": 1,
   "id": "d25c4d44",
   "metadata": {},
   "outputs": [],
   "source": [
    "from sklearn.cluster import KMeans\n",
    "from sklearn.preprocessing import MinMaxScaler, StandardScaler, RobustScaler\n",
    "import pandas as pd\n",
    "import numpy as np"
   ]
  },
  {
   "cell_type": "code",
   "execution_count": 47,
   "id": "5cd7b2e6",
   "metadata": {},
   "outputs": [],
   "source": [
    "df=pd.read_csv(\"C:/Users/gram/Downloads/drive-download-20230405T115700Z-001/wine_test.csv\")"
   ]
  },
  {
   "cell_type": "code",
   "execution_count": 48,
   "id": "ea3f30f2",
   "metadata": {},
   "outputs": [
    {
     "data": {
      "text/html": [
       "<div>\n",
       "<style scoped>\n",
       "    .dataframe tbody tr th:only-of-type {\n",
       "        vertical-align: middle;\n",
       "    }\n",
       "\n",
       "    .dataframe tbody tr th {\n",
       "        vertical-align: top;\n",
       "    }\n",
       "\n",
       "    .dataframe thead th {\n",
       "        text-align: right;\n",
       "    }\n",
       "</style>\n",
       "<table border=\"1\" class=\"dataframe\">\n",
       "  <thead>\n",
       "    <tr style=\"text-align: right;\">\n",
       "      <th></th>\n",
       "      <th>Unnamed: 0</th>\n",
       "      <th>alcohol</th>\n",
       "      <th>malic_acid</th>\n",
       "      <th>ash</th>\n",
       "      <th>alcalinity_of_ash</th>\n",
       "      <th>magnesium</th>\n",
       "      <th>total_phenols</th>\n",
       "      <th>flavanoids</th>\n",
       "      <th>nonflavanoid_phenols</th>\n",
       "      <th>proanthocyanins</th>\n",
       "      <th>color_intensity</th>\n",
       "      <th>hue</th>\n",
       "      <th>od280/od315_of_diluted_wines</th>\n",
       "      <th>proline</th>\n",
       "      <th>class</th>\n",
       "    </tr>\n",
       "  </thead>\n",
       "  <tbody>\n",
       "    <tr>\n",
       "      <th>0</th>\n",
       "      <td>0</td>\n",
       "      <td>14.23</td>\n",
       "      <td>1.71</td>\n",
       "      <td>2.43</td>\n",
       "      <td>15.6</td>\n",
       "      <td>127</td>\n",
       "      <td>2.80</td>\n",
       "      <td>3.06</td>\n",
       "      <td>0.28</td>\n",
       "      <td>2.29</td>\n",
       "      <td>5.64</td>\n",
       "      <td>1.04</td>\n",
       "      <td>3.92</td>\n",
       "      <td>1065</td>\n",
       "      <td>0</td>\n",
       "    </tr>\n",
       "    <tr>\n",
       "      <th>1</th>\n",
       "      <td>1</td>\n",
       "      <td>NaN</td>\n",
       "      <td>1.78</td>\n",
       "      <td>2.14</td>\n",
       "      <td>11.2</td>\n",
       "      <td>100</td>\n",
       "      <td>2.65</td>\n",
       "      <td>2.76</td>\n",
       "      <td>0.26</td>\n",
       "      <td>1.28</td>\n",
       "      <td>4.38</td>\n",
       "      <td>1.05</td>\n",
       "      <td>3.40</td>\n",
       "      <td>1050</td>\n",
       "      <td>0</td>\n",
       "    </tr>\n",
       "    <tr>\n",
       "      <th>2</th>\n",
       "      <td>2</td>\n",
       "      <td>13.16</td>\n",
       "      <td>2.36</td>\n",
       "      <td>2.67</td>\n",
       "      <td>18.6</td>\n",
       "      <td>101</td>\n",
       "      <td>2.80</td>\n",
       "      <td>3.24</td>\n",
       "      <td>0.30</td>\n",
       "      <td>2.81</td>\n",
       "      <td>5.68</td>\n",
       "      <td>1.03</td>\n",
       "      <td>3.17</td>\n",
       "      <td>1185</td>\n",
       "      <td>0</td>\n",
       "    </tr>\n",
       "    <tr>\n",
       "      <th>3</th>\n",
       "      <td>3</td>\n",
       "      <td>14.37</td>\n",
       "      <td>1.95</td>\n",
       "      <td>2.50</td>\n",
       "      <td>16.8</td>\n",
       "      <td>113</td>\n",
       "      <td>3.85</td>\n",
       "      <td>3.49</td>\n",
       "      <td>0.24</td>\n",
       "      <td>2.18</td>\n",
       "      <td>7.80</td>\n",
       "      <td>0.86</td>\n",
       "      <td>3.45</td>\n",
       "      <td>1480</td>\n",
       "      <td>0</td>\n",
       "    </tr>\n",
       "    <tr>\n",
       "      <th>4</th>\n",
       "      <td>4</td>\n",
       "      <td>13.24</td>\n",
       "      <td>2.59</td>\n",
       "      <td>2.87</td>\n",
       "      <td>21.0</td>\n",
       "      <td>118</td>\n",
       "      <td>2.80</td>\n",
       "      <td>2.69</td>\n",
       "      <td>0.39</td>\n",
       "      <td>1.82</td>\n",
       "      <td>4.32</td>\n",
       "      <td>1.04</td>\n",
       "      <td>2.93</td>\n",
       "      <td>735</td>\n",
       "      <td>0</td>\n",
       "    </tr>\n",
       "    <tr>\n",
       "      <th>...</th>\n",
       "      <td>...</td>\n",
       "      <td>...</td>\n",
       "      <td>...</td>\n",
       "      <td>...</td>\n",
       "      <td>...</td>\n",
       "      <td>...</td>\n",
       "      <td>...</td>\n",
       "      <td>...</td>\n",
       "      <td>...</td>\n",
       "      <td>...</td>\n",
       "      <td>...</td>\n",
       "      <td>...</td>\n",
       "      <td>...</td>\n",
       "      <td>...</td>\n",
       "      <td>...</td>\n",
       "    </tr>\n",
       "    <tr>\n",
       "      <th>173</th>\n",
       "      <td>173</td>\n",
       "      <td>13.71</td>\n",
       "      <td>5.65</td>\n",
       "      <td>2.45</td>\n",
       "      <td>20.5</td>\n",
       "      <td>95</td>\n",
       "      <td>1.68</td>\n",
       "      <td>0.61</td>\n",
       "      <td>0.52</td>\n",
       "      <td>1.06</td>\n",
       "      <td>7.70</td>\n",
       "      <td>0.64</td>\n",
       "      <td>1.74</td>\n",
       "      <td>740</td>\n",
       "      <td>2</td>\n",
       "    </tr>\n",
       "    <tr>\n",
       "      <th>174</th>\n",
       "      <td>174</td>\n",
       "      <td>13.40</td>\n",
       "      <td>3.91</td>\n",
       "      <td>2.48</td>\n",
       "      <td>23.0</td>\n",
       "      <td>102</td>\n",
       "      <td>1.80</td>\n",
       "      <td>0.75</td>\n",
       "      <td>0.43</td>\n",
       "      <td>1.41</td>\n",
       "      <td>7.30</td>\n",
       "      <td>0.70</td>\n",
       "      <td>1.56</td>\n",
       "      <td>750</td>\n",
       "      <td>2</td>\n",
       "    </tr>\n",
       "    <tr>\n",
       "      <th>175</th>\n",
       "      <td>175</td>\n",
       "      <td>13.27</td>\n",
       "      <td>4.28</td>\n",
       "      <td>2.26</td>\n",
       "      <td>20.0</td>\n",
       "      <td>120</td>\n",
       "      <td>1.59</td>\n",
       "      <td>0.69</td>\n",
       "      <td>0.43</td>\n",
       "      <td>1.35</td>\n",
       "      <td>10.20</td>\n",
       "      <td>0.59</td>\n",
       "      <td>1.56</td>\n",
       "      <td>835</td>\n",
       "      <td>2</td>\n",
       "    </tr>\n",
       "    <tr>\n",
       "      <th>176</th>\n",
       "      <td>176</td>\n",
       "      <td>13.17</td>\n",
       "      <td>2.59</td>\n",
       "      <td>2.37</td>\n",
       "      <td>20.0</td>\n",
       "      <td>120</td>\n",
       "      <td>1.65</td>\n",
       "      <td>0.68</td>\n",
       "      <td>0.53</td>\n",
       "      <td>1.46</td>\n",
       "      <td>9.30</td>\n",
       "      <td>0.60</td>\n",
       "      <td>1.62</td>\n",
       "      <td>840</td>\n",
       "      <td>2</td>\n",
       "    </tr>\n",
       "    <tr>\n",
       "      <th>177</th>\n",
       "      <td>177</td>\n",
       "      <td>14.13</td>\n",
       "      <td>4.10</td>\n",
       "      <td>2.74</td>\n",
       "      <td>24.5</td>\n",
       "      <td>96</td>\n",
       "      <td>2.05</td>\n",
       "      <td>0.76</td>\n",
       "      <td>0.56</td>\n",
       "      <td>1.35</td>\n",
       "      <td>9.20</td>\n",
       "      <td>0.61</td>\n",
       "      <td>1.60</td>\n",
       "      <td>560</td>\n",
       "      <td>2</td>\n",
       "    </tr>\n",
       "  </tbody>\n",
       "</table>\n",
       "<p>178 rows × 15 columns</p>\n",
       "</div>"
      ],
      "text/plain": [
       "     Unnamed: 0  alcohol  malic_acid   ash  alcalinity_of_ash  magnesium  \\\n",
       "0             0    14.23        1.71  2.43               15.6        127   \n",
       "1             1      NaN        1.78  2.14               11.2        100   \n",
       "2             2    13.16        2.36  2.67               18.6        101   \n",
       "3             3    14.37        1.95  2.50               16.8        113   \n",
       "4             4    13.24        2.59  2.87               21.0        118   \n",
       "..          ...      ...         ...   ...                ...        ...   \n",
       "173         173    13.71        5.65  2.45               20.5         95   \n",
       "174         174    13.40        3.91  2.48               23.0        102   \n",
       "175         175    13.27        4.28  2.26               20.0        120   \n",
       "176         176    13.17        2.59  2.37               20.0        120   \n",
       "177         177    14.13        4.10  2.74               24.5         96   \n",
       "\n",
       "     total_phenols  flavanoids  nonflavanoid_phenols  proanthocyanins  \\\n",
       "0             2.80        3.06                  0.28             2.29   \n",
       "1             2.65        2.76                  0.26             1.28   \n",
       "2             2.80        3.24                  0.30             2.81   \n",
       "3             3.85        3.49                  0.24             2.18   \n",
       "4             2.80        2.69                  0.39             1.82   \n",
       "..             ...         ...                   ...              ...   \n",
       "173           1.68        0.61                  0.52             1.06   \n",
       "174           1.80        0.75                  0.43             1.41   \n",
       "175           1.59        0.69                  0.43             1.35   \n",
       "176           1.65        0.68                  0.53             1.46   \n",
       "177           2.05        0.76                  0.56             1.35   \n",
       "\n",
       "     color_intensity   hue  od280/od315_of_diluted_wines  proline  class  \n",
       "0               5.64  1.04                          3.92     1065      0  \n",
       "1               4.38  1.05                          3.40     1050      0  \n",
       "2               5.68  1.03                          3.17     1185      0  \n",
       "3               7.80  0.86                          3.45     1480      0  \n",
       "4               4.32  1.04                          2.93      735      0  \n",
       "..               ...   ...                           ...      ...    ...  \n",
       "173             7.70  0.64                          1.74      740      2  \n",
       "174             7.30  0.70                          1.56      750      2  \n",
       "175            10.20  0.59                          1.56      835      2  \n",
       "176             9.30  0.60                          1.62      840      2  \n",
       "177             9.20  0.61                          1.60      560      2  \n",
       "\n",
       "[178 rows x 15 columns]"
      ]
     },
     "execution_count": 48,
     "metadata": {},
     "output_type": "execute_result"
    }
   ],
   "source": [
    "df"
   ]
  },
  {
   "cell_type": "code",
   "execution_count": 49,
   "id": "6d2cd516",
   "metadata": {},
   "outputs": [
    {
     "data": {
      "text/plain": [
       "Index(['Unnamed: 0', 'alcohol', 'malic_acid', 'ash', 'alcalinity_of_ash',\n",
       "       'magnesium', 'total_phenols', 'flavanoids', 'nonflavanoid_phenols',\n",
       "       'proanthocyanins', 'color_intensity', 'hue',\n",
       "       'od280/od315_of_diluted_wines', 'proline', 'class'],\n",
       "      dtype='object')"
      ]
     },
     "execution_count": 49,
     "metadata": {},
     "output_type": "execute_result"
    }
   ],
   "source": [
    "df.columns"
   ]
  },
  {
   "cell_type": "code",
   "execution_count": 50,
   "id": "8ba299d6",
   "metadata": {},
   "outputs": [],
   "source": [
    "#유의미한 컬럼으로 이루어진 데이터셋 만들기\n",
    "df=df[['alcohol', 'malic_acid', 'ash', 'alcalinity_of_ash',\n",
    "       'magnesium', 'total_phenols', 'flavanoids', 'nonflavanoid_phenols',\n",
    "       'proanthocyanins', 'color_intensity', 'hue',\n",
    "       'od280/od315_of_diluted_wines', 'proline', 'class']]"
   ]
  },
  {
   "cell_type": "code",
   "execution_count": 51,
   "id": "4831f52e",
   "metadata": {},
   "outputs": [
    {
     "data": {
      "text/plain": [
       "1    71\n",
       "0    59\n",
       "2    48\n",
       "Name: class, dtype: int64"
      ]
     },
     "execution_count": 51,
     "metadata": {},
     "output_type": "execute_result"
    }
   ],
   "source": [
    "#대략적 class 분포 확인\n",
    "df['class'].value_counts()"
   ]
  },
  {
   "cell_type": "code",
   "execution_count": 52,
   "id": "d4a40e4d",
   "metadata": {},
   "outputs": [
    {
     "data": {
      "text/plain": [
       "alcohol                         2\n",
       "malic_acid                      0\n",
       "ash                             0\n",
       "alcalinity_of_ash               0\n",
       "magnesium                       0\n",
       "total_phenols                   0\n",
       "flavanoids                      0\n",
       "nonflavanoid_phenols            5\n",
       "proanthocyanins                 0\n",
       "color_intensity                 0\n",
       "hue                             0\n",
       "od280/od315_of_diluted_wines    0\n",
       "proline                         0\n",
       "class                           0\n",
       "dtype: int64"
      ]
     },
     "execution_count": 52,
     "metadata": {},
     "output_type": "execute_result"
    }
   ],
   "source": [
    "#결측값 처리하기 (제거)\n",
    "df.isnull().sum()"
   ]
  },
  {
   "cell_type": "code",
   "execution_count": 53,
   "id": "ecfc8d41",
   "metadata": {},
   "outputs": [
    {
     "name": "stderr",
     "output_type": "stream",
     "text": [
      "C:\\Temp\\ipykernel_10388\\1379821321.py:1: SettingWithCopyWarning: \n",
      "A value is trying to be set on a copy of a slice from a DataFrame\n",
      "\n",
      "See the caveats in the documentation: https://pandas.pydata.org/pandas-docs/stable/user_guide/indexing.html#returning-a-view-versus-a-copy\n",
      "  df.dropna(inplace=True)\n"
     ]
    }
   ],
   "source": [
    "df.dropna(inplace=True)"
   ]
  },
  {
   "cell_type": "code",
   "execution_count": 54,
   "id": "a82029b9",
   "metadata": {},
   "outputs": [],
   "source": [
    "kmeans = KMeans(n_clusters=3, init='k-means++', max_iter=300, random_state=111)"
   ]
  },
  {
   "cell_type": "code",
   "execution_count": 55,
   "id": "99dd7fa4",
   "metadata": {},
   "outputs": [
    {
     "data": {
      "text/plain": [
       "KMeans(n_clusters=3, random_state=111)"
      ]
     },
     "execution_count": 55,
     "metadata": {},
     "output_type": "execute_result"
    }
   ],
   "source": [
    "kmeans"
   ]
  },
  {
   "cell_type": "code",
   "execution_count": 56,
   "id": "c762fd89",
   "metadata": {},
   "outputs": [
    {
     "data": {
      "text/plain": [
       "1    66\n",
       "0    57\n",
       "2    48\n",
       "Name: class, dtype: int64"
      ]
     },
     "execution_count": 56,
     "metadata": {},
     "output_type": "execute_result"
    }
   ],
   "source": [
    "df['class'].value_counts()"
   ]
  },
  {
   "cell_type": "code",
   "execution_count": 57,
   "id": "d50baced",
   "metadata": {},
   "outputs": [],
   "source": [
    "#class 컬럼을 제외한 샘플 데이터셋 정의\n",
    "df_sp=df[['alcohol', 'malic_acid', 'ash', 'alcalinity_of_ash', 'magnesium',\n",
    "       'total_phenols', 'flavanoids', 'nonflavanoid_phenols',\n",
    "       'proanthocyanins', 'color_intensity', 'hue',\n",
    "       'od280/od315_of_diluted_wines', 'proline']]"
   ]
  },
  {
   "cell_type": "code",
   "execution_count": 58,
   "id": "dd008d06",
   "metadata": {},
   "outputs": [
    {
     "data": {
      "text/plain": [
       "KMeans(n_clusters=3, random_state=111)"
      ]
     },
     "execution_count": 58,
     "metadata": {},
     "output_type": "execute_result"
    }
   ],
   "source": [
    "#kmeans clustering 실시\n",
    "kmeans.fit(df_sp)"
   ]
  },
  {
   "cell_type": "code",
   "execution_count": 59,
   "id": "b0d4e599",
   "metadata": {},
   "outputs": [
    {
     "data": {
      "text/plain": [
       "array([0, 0, 0, 1, 0, 0, 0, 0, 0, 0, 0, 0, 0, 0, 0, 0, 0, 1, 1, 1, 0, 0,\n",
       "       1, 1, 0, 0, 1, 0, 0, 0, 0, 0, 0, 1, 1, 0, 0, 1, 1, 0, 0, 1, 1, 0,\n",
       "       0, 0, 0, 0, 0, 0, 0, 0, 0, 0, 0, 0, 0, 2, 1, 2, 1, 2, 2, 1, 2, 2,\n",
       "       1, 1, 2, 2, 0, 1, 2, 2, 2, 1, 2, 2, 1, 1, 2, 2, 2, 2, 2, 1, 1, 2,\n",
       "       2, 2, 2, 2, 1, 2, 1, 2, 1, 2, 1, 2, 2, 2, 2, 1, 2, 2, 1, 2, 2, 2,\n",
       "       2, 2, 2, 2, 2, 2, 2, 2, 2, 2, 2, 2, 2, 1, 2, 2, 1, 1, 1, 1, 2, 2,\n",
       "       2, 1, 1, 2, 2, 1, 1, 2, 1, 1, 2, 2, 2, 2, 1, 1, 1, 2, 1, 1, 1, 2,\n",
       "       1, 2, 1, 1, 2, 1, 1, 1, 1, 2, 2, 1, 1, 1, 1, 1, 2])"
      ]
     },
     "execution_count": 59,
     "metadata": {},
     "output_type": "execute_result"
    }
   ],
   "source": [
    "kmeans.labels_"
   ]
  },
  {
   "cell_type": "code",
   "execution_count": 60,
   "id": "a121f233",
   "metadata": {},
   "outputs": [],
   "source": [
    "#샘플 데이터에 cluster 컬럼 정의\n",
    "df_sp['cluster']=kmeans.labels_"
   ]
  },
  {
   "cell_type": "code",
   "execution_count": 61,
   "id": "ecaac1a8",
   "metadata": {},
   "outputs": [
    {
     "data": {
      "text/plain": [
       "2    67\n",
       "1    59\n",
       "0    45\n",
       "Name: cluster, dtype: int64"
      ]
     },
     "execution_count": 61,
     "metadata": {},
     "output_type": "execute_result"
    }
   ],
   "source": [
    "df_sp['cluster'].value_counts()"
   ]
  },
  {
   "cell_type": "code",
   "execution_count": 62,
   "id": "cd862644",
   "metadata": {},
   "outputs": [],
   "source": [
    "df_sp['class']=df['class']"
   ]
  },
  {
   "cell_type": "code",
   "execution_count": 63,
   "id": "49981472",
   "metadata": {},
   "outputs": [
    {
     "data": {
      "text/plain": [
       "class  cluster\n",
       "0      0          44\n",
       "       1          13\n",
       "1      0           1\n",
       "       1          17\n",
       "       2          48\n",
       "2      1          29\n",
       "       2          19\n",
       "Name: proline, dtype: int64"
      ]
     },
     "execution_count": 63,
     "metadata": {},
     "output_type": "execute_result"
    }
   ],
   "source": [
    "#실제 class별 클러스터링 결과 비교\n",
    "df_sp.groupby(['class', 'cluster'])['proline'].count()\n",
    "#결과 좋지 않음 확인..\n",
    "#원인 : 이상치 방치 / 컬럼 너무 많아서 !"
   ]
  },
  {
   "cell_type": "code",
   "execution_count": 64,
   "id": "b414fa88",
   "metadata": {},
   "outputs": [
    {
     "name": "stdout",
     "output_type": "stream",
     "text": [
      "----------------- alcohol mean 비교\n",
      "class\n",
      "0    13.735263\n",
      "1    12.294242\n",
      "2    13.153750\n",
      "Name: alcohol, dtype: float64\n",
      "----------------- malic_acid mean 비교\n",
      "class\n",
      "0    2.021228\n",
      "1    1.932121\n",
      "2    3.333750\n",
      "Name: malic_acid, dtype: float64\n",
      "----------------- ash mean 비교\n",
      "class\n",
      "0    2.466140\n",
      "1    2.245606\n",
      "2    2.437083\n",
      "Name: ash, dtype: float64\n",
      "----------------- alcalinity_of_ash mean 비교\n",
      "class\n",
      "0    17.192982\n",
      "1    20.257576\n",
      "2    21.416667\n",
      "Name: alcalinity_of_ash, dtype: float64\n",
      "----------------- magnesium mean 비교\n",
      "class\n",
      "0    106.614035\n",
      "1     93.454545\n",
      "2     99.312500\n",
      "Name: magnesium, dtype: float64\n",
      "----------------- total_phenols mean 비교\n",
      "class\n",
      "0    2.844211\n",
      "1    2.254848\n",
      "2    1.678750\n",
      "Name: total_phenols, dtype: float64\n",
      "----------------- flavanoids mean 비교\n",
      "class\n",
      "0    2.986316\n",
      "1    2.089545\n",
      "2    0.781458\n",
      "Name: flavanoids, dtype: float64\n",
      "----------------- nonflavanoid_phenols mean 비교\n",
      "class\n",
      "0    0.290526\n",
      "1    0.365152\n",
      "2    0.447500\n",
      "Name: nonflavanoid_phenols, dtype: float64\n",
      "----------------- proanthocyanins mean 비교\n",
      "class\n",
      "0    1.908772\n",
      "1    1.612879\n",
      "2    1.153542\n",
      "Name: proanthocyanins, dtype: float64\n",
      "----------------- color_intensity mean 비교\n",
      "class\n",
      "0    5.554211\n",
      "1    3.111970\n",
      "2    7.396250\n",
      "Name: color_intensity, dtype: float64\n",
      "----------------- hue mean 비교\n",
      "class\n",
      "0    1.061930\n",
      "1    1.066515\n",
      "2    0.682708\n",
      "Name: hue, dtype: float64\n",
      "----------------- od280/od315_of_diluted_wines mean 비교\n",
      "class\n",
      "0    3.158947\n",
      "1    2.789394\n",
      "2    1.683542\n",
      "Name: od280/od315_of_diluted_wines, dtype: float64\n",
      "----------------- proline mean 비교\n",
      "class\n",
      "0    1118.105263\n",
      "1     509.090909\n",
      "2     629.895833\n",
      "Name: proline, dtype: float64\n",
      "----------------- class mean 비교\n",
      "class\n",
      "0    0.0\n",
      "1    1.0\n",
      "2    2.0\n",
      "Name: class, dtype: float64\n"
     ]
    }
   ],
   "source": [
    "#컬럼별 class 별 평균 확인\n",
    "a=list(df.columns)\n",
    "\n",
    "for i in a:\n",
    "    print('-----------------',i ,'mean 비교')\n",
    "    print(df.groupby(['class'])[i].mean())"
   ]
  },
  {
   "cell_type": "code",
   "execution_count": 71,
   "id": "5490b0b4",
   "metadata": {},
   "outputs": [],
   "source": [
    "#이상치 없는 컬럼 선택\n",
    "#수업에선 ['alcohol', 'ash', 'nonflavanoid_phenols' ,'proanthocyanins'] 을 선택하셨지만 \n",
    "#'nonflavanoid_phenols'컬럼보다 'hue' 컬럼이 더 차이가 적어 컬럼들을 바꿔보았습니다.\n",
    "df_sp_1 = df[['alcohol', 'ash', 'hue' ,'proanthocyanins']]"
   ]
  },
  {
   "cell_type": "code",
   "execution_count": 72,
   "id": "72672327",
   "metadata": {},
   "outputs": [
    {
     "data": {
      "text/html": [
       "<div>\n",
       "<style scoped>\n",
       "    .dataframe tbody tr th:only-of-type {\n",
       "        vertical-align: middle;\n",
       "    }\n",
       "\n",
       "    .dataframe tbody tr th {\n",
       "        vertical-align: top;\n",
       "    }\n",
       "\n",
       "    .dataframe thead th {\n",
       "        text-align: right;\n",
       "    }\n",
       "</style>\n",
       "<table border=\"1\" class=\"dataframe\">\n",
       "  <thead>\n",
       "    <tr style=\"text-align: right;\">\n",
       "      <th></th>\n",
       "      <th>alcohol</th>\n",
       "      <th>ash</th>\n",
       "      <th>hue</th>\n",
       "      <th>proanthocyanins</th>\n",
       "    </tr>\n",
       "  </thead>\n",
       "  <tbody>\n",
       "    <tr>\n",
       "      <th>0</th>\n",
       "      <td>14.23</td>\n",
       "      <td>2.43</td>\n",
       "      <td>1.04</td>\n",
       "      <td>2.29</td>\n",
       "    </tr>\n",
       "    <tr>\n",
       "      <th>2</th>\n",
       "      <td>13.16</td>\n",
       "      <td>2.67</td>\n",
       "      <td>1.03</td>\n",
       "      <td>2.81</td>\n",
       "    </tr>\n",
       "    <tr>\n",
       "      <th>3</th>\n",
       "      <td>14.37</td>\n",
       "      <td>2.50</td>\n",
       "      <td>0.86</td>\n",
       "      <td>2.18</td>\n",
       "    </tr>\n",
       "    <tr>\n",
       "      <th>4</th>\n",
       "      <td>13.24</td>\n",
       "      <td>2.87</td>\n",
       "      <td>1.04</td>\n",
       "      <td>1.82</td>\n",
       "    </tr>\n",
       "    <tr>\n",
       "      <th>5</th>\n",
       "      <td>14.20</td>\n",
       "      <td>2.45</td>\n",
       "      <td>1.05</td>\n",
       "      <td>1.97</td>\n",
       "    </tr>\n",
       "    <tr>\n",
       "      <th>...</th>\n",
       "      <td>...</td>\n",
       "      <td>...</td>\n",
       "      <td>...</td>\n",
       "      <td>...</td>\n",
       "    </tr>\n",
       "    <tr>\n",
       "      <th>173</th>\n",
       "      <td>13.71</td>\n",
       "      <td>2.45</td>\n",
       "      <td>0.64</td>\n",
       "      <td>1.06</td>\n",
       "    </tr>\n",
       "    <tr>\n",
       "      <th>174</th>\n",
       "      <td>13.40</td>\n",
       "      <td>2.48</td>\n",
       "      <td>0.70</td>\n",
       "      <td>1.41</td>\n",
       "    </tr>\n",
       "    <tr>\n",
       "      <th>175</th>\n",
       "      <td>13.27</td>\n",
       "      <td>2.26</td>\n",
       "      <td>0.59</td>\n",
       "      <td>1.35</td>\n",
       "    </tr>\n",
       "    <tr>\n",
       "      <th>176</th>\n",
       "      <td>13.17</td>\n",
       "      <td>2.37</td>\n",
       "      <td>0.60</td>\n",
       "      <td>1.46</td>\n",
       "    </tr>\n",
       "    <tr>\n",
       "      <th>177</th>\n",
       "      <td>14.13</td>\n",
       "      <td>2.74</td>\n",
       "      <td>0.61</td>\n",
       "      <td>1.35</td>\n",
       "    </tr>\n",
       "  </tbody>\n",
       "</table>\n",
       "<p>171 rows × 4 columns</p>\n",
       "</div>"
      ],
      "text/plain": [
       "     alcohol   ash   hue  proanthocyanins\n",
       "0      14.23  2.43  1.04             2.29\n",
       "2      13.16  2.67  1.03             2.81\n",
       "3      14.37  2.50  0.86             2.18\n",
       "4      13.24  2.87  1.04             1.82\n",
       "5      14.20  2.45  1.05             1.97\n",
       "..       ...   ...   ...              ...\n",
       "173    13.71  2.45  0.64             1.06\n",
       "174    13.40  2.48  0.70             1.41\n",
       "175    13.27  2.26  0.59             1.35\n",
       "176    13.17  2.37  0.60             1.46\n",
       "177    14.13  2.74  0.61             1.35\n",
       "\n",
       "[171 rows x 4 columns]"
      ]
     },
     "execution_count": 72,
     "metadata": {},
     "output_type": "execute_result"
    }
   ],
   "source": [
    "df_sp_1"
   ]
  },
  {
   "cell_type": "code",
   "execution_count": 73,
   "id": "2eb905d3",
   "metadata": {},
   "outputs": [
    {
     "data": {
      "text/plain": [
       "KMeans(n_clusters=3, random_state=111)"
      ]
     },
     "execution_count": 73,
     "metadata": {},
     "output_type": "execute_result"
    }
   ],
   "source": [
    "#클러스터링 진행 및 클래스와 클러스터링 결과 비교\n",
    "kmeans.fit(df_sp_1)"
   ]
  },
  {
   "cell_type": "code",
   "execution_count": 75,
   "id": "807243f3",
   "metadata": {},
   "outputs": [
    {
     "name": "stderr",
     "output_type": "stream",
     "text": [
      "C:\\Temp\\ipykernel_10388\\914837266.py:1: SettingWithCopyWarning: \n",
      "A value is trying to be set on a copy of a slice from a DataFrame.\n",
      "Try using .loc[row_indexer,col_indexer] = value instead\n",
      "\n",
      "See the caveats in the documentation: https://pandas.pydata.org/pandas-docs/stable/user_guide/indexing.html#returning-a-view-versus-a-copy\n",
      "  df_sp_1['cluster']=kmeans.labels_\n"
     ]
    }
   ],
   "source": [
    "df_sp_1['cluster']=kmeans.labels_"
   ]
  },
  {
   "cell_type": "code",
   "execution_count": 76,
   "id": "7cac79c3",
   "metadata": {},
   "outputs": [
    {
     "name": "stderr",
     "output_type": "stream",
     "text": [
      "C:\\Temp\\ipykernel_10388\\3153947600.py:1: SettingWithCopyWarning: \n",
      "A value is trying to be set on a copy of a slice from a DataFrame.\n",
      "Try using .loc[row_indexer,col_indexer] = value instead\n",
      "\n",
      "See the caveats in the documentation: https://pandas.pydata.org/pandas-docs/stable/user_guide/indexing.html#returning-a-view-versus-a-copy\n",
      "  df_sp_1['class']=df['class']\n"
     ]
    }
   ],
   "source": [
    "df_sp_1['class']=df['class']"
   ]
  },
  {
   "cell_type": "code",
   "execution_count": 77,
   "id": "1d10bba7",
   "metadata": {},
   "outputs": [
    {
     "data": {
      "text/plain": [
       "cluster  class\n",
       "0        0        49\n",
       "         1         4\n",
       "         2         7\n",
       "1        1        50\n",
       "         2         1\n",
       "2        0         8\n",
       "         1        12\n",
       "         2        40\n",
       "Name: hue, dtype: int64"
      ]
     },
     "execution_count": 77,
     "metadata": {},
     "output_type": "execute_result"
    }
   ],
   "source": [
    "df_sp_1.groupby(['cluster', 'class'])['hue'].count()\n",
    "#복습 과제에서 한 것보다 분류 정확히 됨 (컬럼을 바꾼게 도움이 되었다고 생각됩니다!)"
   ]
  },
  {
   "cell_type": "code",
   "execution_count": 78,
   "id": "c0cd4c67",
   "metadata": {},
   "outputs": [
    {
     "data": {
      "text/html": [
       "<div>\n",
       "<style scoped>\n",
       "    .dataframe tbody tr th:only-of-type {\n",
       "        vertical-align: middle;\n",
       "    }\n",
       "\n",
       "    .dataframe tbody tr th {\n",
       "        vertical-align: top;\n",
       "    }\n",
       "\n",
       "    .dataframe thead th {\n",
       "        text-align: right;\n",
       "    }\n",
       "</style>\n",
       "<table border=\"1\" class=\"dataframe\">\n",
       "  <thead>\n",
       "    <tr style=\"text-align: right;\">\n",
       "      <th></th>\n",
       "      <th>alcohol</th>\n",
       "      <th>ash</th>\n",
       "      <th>hue</th>\n",
       "      <th>proanthocyanins</th>\n",
       "    </tr>\n",
       "  </thead>\n",
       "  <tbody>\n",
       "    <tr>\n",
       "      <th>0</th>\n",
       "      <td>14.23</td>\n",
       "      <td>2.43</td>\n",
       "      <td>1.04</td>\n",
       "      <td>2.29</td>\n",
       "    </tr>\n",
       "    <tr>\n",
       "      <th>2</th>\n",
       "      <td>13.16</td>\n",
       "      <td>2.67</td>\n",
       "      <td>1.03</td>\n",
       "      <td>2.81</td>\n",
       "    </tr>\n",
       "    <tr>\n",
       "      <th>3</th>\n",
       "      <td>14.37</td>\n",
       "      <td>2.50</td>\n",
       "      <td>0.86</td>\n",
       "      <td>2.18</td>\n",
       "    </tr>\n",
       "    <tr>\n",
       "      <th>4</th>\n",
       "      <td>13.24</td>\n",
       "      <td>2.87</td>\n",
       "      <td>1.04</td>\n",
       "      <td>1.82</td>\n",
       "    </tr>\n",
       "    <tr>\n",
       "      <th>5</th>\n",
       "      <td>14.20</td>\n",
       "      <td>2.45</td>\n",
       "      <td>1.05</td>\n",
       "      <td>1.97</td>\n",
       "    </tr>\n",
       "    <tr>\n",
       "      <th>...</th>\n",
       "      <td>...</td>\n",
       "      <td>...</td>\n",
       "      <td>...</td>\n",
       "      <td>...</td>\n",
       "    </tr>\n",
       "    <tr>\n",
       "      <th>173</th>\n",
       "      <td>13.71</td>\n",
       "      <td>2.45</td>\n",
       "      <td>0.64</td>\n",
       "      <td>1.06</td>\n",
       "    </tr>\n",
       "    <tr>\n",
       "      <th>174</th>\n",
       "      <td>13.40</td>\n",
       "      <td>2.48</td>\n",
       "      <td>0.70</td>\n",
       "      <td>1.41</td>\n",
       "    </tr>\n",
       "    <tr>\n",
       "      <th>175</th>\n",
       "      <td>13.27</td>\n",
       "      <td>2.26</td>\n",
       "      <td>0.59</td>\n",
       "      <td>1.35</td>\n",
       "    </tr>\n",
       "    <tr>\n",
       "      <th>176</th>\n",
       "      <td>13.17</td>\n",
       "      <td>2.37</td>\n",
       "      <td>0.60</td>\n",
       "      <td>1.46</td>\n",
       "    </tr>\n",
       "    <tr>\n",
       "      <th>177</th>\n",
       "      <td>14.13</td>\n",
       "      <td>2.74</td>\n",
       "      <td>0.61</td>\n",
       "      <td>1.35</td>\n",
       "    </tr>\n",
       "  </tbody>\n",
       "</table>\n",
       "<p>171 rows × 4 columns</p>\n",
       "</div>"
      ],
      "text/plain": [
       "     alcohol   ash   hue  proanthocyanins\n",
       "0      14.23  2.43  1.04             2.29\n",
       "2      13.16  2.67  1.03             2.81\n",
       "3      14.37  2.50  0.86             2.18\n",
       "4      13.24  2.87  1.04             1.82\n",
       "5      14.20  2.45  1.05             1.97\n",
       "..       ...   ...   ...              ...\n",
       "173    13.71  2.45  0.64             1.06\n",
       "174    13.40  2.48  0.70             1.41\n",
       "175    13.27  2.26  0.59             1.35\n",
       "176    13.17  2.37  0.60             1.46\n",
       "177    14.13  2.74  0.61             1.35\n",
       "\n",
       "[171 rows x 4 columns]"
      ]
     },
     "execution_count": 78,
     "metadata": {},
     "output_type": "execute_result"
    }
   ],
   "source": [
    "# 이상치를 고려하여 스케일링 진행!\n",
    "df_sp_1 = df[['alcohol', 'ash', 'hue' ,'proanthocyanins']]\n",
    "df_sp_1"
   ]
  },
  {
   "cell_type": "code",
   "execution_count": 79,
   "id": "7fea5c3e",
   "metadata": {},
   "outputs": [],
   "source": [
    "SS=StandardScaler()"
   ]
  },
  {
   "cell_type": "code",
   "execution_count": 80,
   "id": "5f09c1f6",
   "metadata": {},
   "outputs": [
    {
     "data": {
      "text/plain": [
       "StandardScaler()"
      ]
     },
     "execution_count": 80,
     "metadata": {},
     "output_type": "execute_result"
    }
   ],
   "source": [
    "SS.fit(df_sp_1)"
   ]
  },
  {
   "cell_type": "code",
   "execution_count": 81,
   "id": "b18ff6e2",
   "metadata": {},
   "outputs": [],
   "source": [
    "df_sp_1_ss=SS.transform(df_sp_1)"
   ]
  },
  {
   "cell_type": "code",
   "execution_count": 82,
   "id": "56c5809b",
   "metadata": {},
   "outputs": [],
   "source": [
    "df_tt_ss=pd.DataFrame(df_sp_1_ss,columns=df_sp_1.columns)"
   ]
  },
  {
   "cell_type": "code",
   "execution_count": 83,
   "id": "d4149f43",
   "metadata": {},
   "outputs": [
    {
     "data": {
      "text/plain": [
       "KMeans(n_clusters=3, random_state=111)"
      ]
     },
     "execution_count": 83,
     "metadata": {},
     "output_type": "execute_result"
    }
   ],
   "source": [
    "kmeans.fit(df_tt_ss)"
   ]
  },
  {
   "cell_type": "code",
   "execution_count": 84,
   "id": "b8bb15a4",
   "metadata": {},
   "outputs": [
    {
     "name": "stdout",
     "output_type": "stream",
     "text": [
      "[1 1 1 1 1 1 1 1 1 1 1 1 1 1 1 1 1 1 1 1 1 1 1 1 1 0 1 1 1 1 1 1 1 1 1 1 0\n",
      " 1 1 2 1 2 0 2 1 1 1 1 0 1 1 1 1 1 1 1 1 0 0 2 0 0 0 0 0 0 2 0 1 2 1 0 0 0\n",
      " 0 0 0 0 0 0 2 0 0 0 0 0 0 0 0 0 0 0 0 0 0 0 0 0 0 0 0 0 0 0 0 0 0 0 2 0 0\n",
      " 0 2 0 1 1 2 0 0 2 0 0 2 2 2 2 2 2 2 2 2 2 2 2 2 2 2 2 2 2 2 2 2 2 2 2 2 2\n",
      " 2 2 2 1 1 2 2 2 2 2 2 2 2 2 2 2 2 2 2 2 2 2 2]\n"
     ]
    }
   ],
   "source": [
    "print(kmeans.labels_)"
   ]
  },
  {
   "cell_type": "code",
   "execution_count": 85,
   "id": "02543716",
   "metadata": {},
   "outputs": [],
   "source": [
    "df_tt_ss['cluster'] = kmeans.labels_"
   ]
  },
  {
   "cell_type": "code",
   "execution_count": 86,
   "id": "ec296cf8",
   "metadata": {},
   "outputs": [],
   "source": [
    "df_tt_ss['class']=df_sp['class']"
   ]
  },
  {
   "cell_type": "code",
   "execution_count": 87,
   "id": "2616b346",
   "metadata": {},
   "outputs": [
    {
     "data": {
      "text/plain": [
       "class  cluster\n",
       "0.0    0           6\n",
       "       1          48\n",
       "       2           3\n",
       "1.0    0          47\n",
       "       1           3\n",
       "       2          16\n",
       "2.0    1           2\n",
       "       2          39\n",
       "Name: hue, dtype: int64"
      ]
     },
     "execution_count": 87,
     "metadata": {},
     "output_type": "execute_result"
    }
   ],
   "source": [
    "df_tt_ss.groupby(['class', 'cluster'])['hue'].count()\n",
    "\n",
    "#이유를 모르겠지만 오히려 standardscaling한 결과가 안좋아졌습니다.."
   ]
  },
  {
   "cell_type": "code",
   "execution_count": 88,
   "id": "8568e8c3",
   "metadata": {},
   "outputs": [],
   "source": [
    "df_sp_1 = df[['alcohol', 'ash', 'hue' ,'proanthocyanins']]"
   ]
  },
  {
   "cell_type": "code",
   "execution_count": 89,
   "id": "51546f3f",
   "metadata": {},
   "outputs": [],
   "source": [
    "RB=RobustScaler()\n",
    "RB.fit(df_sp_1)\n",
    "df_tt_rb=RB.transform(df_sp_1)"
   ]
  },
  {
   "cell_type": "code",
   "execution_count": 90,
   "id": "badab9f9",
   "metadata": {},
   "outputs": [
    {
     "data": {
      "text/plain": [
       "KMeans(n_clusters=3, random_state=111)"
      ]
     },
     "execution_count": 90,
     "metadata": {},
     "output_type": "execute_result"
    }
   ],
   "source": [
    "kmeans.fit(df_tt_rb)"
   ]
  },
  {
   "cell_type": "code",
   "execution_count": 91,
   "id": "f6c69983",
   "metadata": {},
   "outputs": [],
   "source": [
    "df_tt_rb=pd.DataFrame(df_tt_rb,columns=df_sp_1.columns)"
   ]
  },
  {
   "cell_type": "code",
   "execution_count": 92,
   "id": "e0ea7e98",
   "metadata": {},
   "outputs": [],
   "source": [
    "df_tt_rb['cluster']=kmeans.labels_"
   ]
  },
  {
   "cell_type": "code",
   "execution_count": 93,
   "id": "d7346222",
   "metadata": {},
   "outputs": [],
   "source": [
    "df_tt_rb['class']=df_sp['class']"
   ]
  },
  {
   "cell_type": "code",
   "execution_count": 94,
   "id": "aa9c0112",
   "metadata": {},
   "outputs": [
    {
     "data": {
      "text/plain": [
       "class  cluster\n",
       "0.0    0          48\n",
       "       1           7\n",
       "       2           2\n",
       "1.0    0           9\n",
       "       1          43\n",
       "       2          14\n",
       "2.0    0           2\n",
       "       2          39\n",
       "Name: hue, dtype: int64"
      ]
     },
     "execution_count": 94,
     "metadata": {},
     "output_type": "execute_result"
    }
   ],
   "source": [
    "df_tt_rb.groupby(['class', 'cluster'])['hue'].count()\n",
    "#단 Robustscaling을 하니 우수한 결과가 나왔습니다\n",
    "#이상값의 영향을 최소화하는 Robustscaling의 효과가 아니었나 생각됩니다!"
   ]
  }
 ],
 "metadata": {
  "kernelspec": {
   "display_name": "Python 3 (ipykernel)",
   "language": "python",
   "name": "python3"
  },
  "language_info": {
   "codemirror_mode": {
    "name": "ipython",
    "version": 3
   },
   "file_extension": ".py",
   "mimetype": "text/x-python",
   "name": "python",
   "nbconvert_exporter": "python",
   "pygments_lexer": "ipython3",
   "version": "3.9.13"
  }
 },
 "nbformat": 4,
 "nbformat_minor": 5
}
