{
 "cells": [
  {
   "cell_type": "code",
   "execution_count": 9,
   "id": "e56395f7",
   "metadata": {},
   "outputs": [],
   "source": [
    "import pandas as pd\n",
    "\n",
    "data2=pd.read_csv('data-2.tsv', sep='\\t')"
   ]
  },
  {
   "cell_type": "code",
   "execution_count": 64,
   "id": "11a37528",
   "metadata": {},
   "outputs": [
    {
     "data": {
      "text/html": [
       "<div>\n",
       "<style scoped>\n",
       "    .dataframe tbody tr th:only-of-type {\n",
       "        vertical-align: middle;\n",
       "    }\n",
       "\n",
       "    .dataframe tbody tr th {\n",
       "        vertical-align: top;\n",
       "    }\n",
       "\n",
       "    .dataframe thead th {\n",
       "        text-align: right;\n",
       "    }\n",
       "</style>\n",
       "<table border=\"1\" class=\"dataframe\">\n",
       "  <thead>\n",
       "    <tr style=\"text-align: right;\">\n",
       "      <th></th>\n",
       "      <th>tconst</th>\n",
       "      <th>titleType</th>\n",
       "      <th>primaryTitle</th>\n",
       "      <th>originalTitle</th>\n",
       "      <th>isAdult</th>\n",
       "      <th>startYear</th>\n",
       "      <th>endYear</th>\n",
       "      <th>runtimeMinutes</th>\n",
       "      <th>genres</th>\n",
       "    </tr>\n",
       "  </thead>\n",
       "  <tbody>\n",
       "    <tr>\n",
       "      <th>0</th>\n",
       "      <td>tt0000001</td>\n",
       "      <td>short</td>\n",
       "      <td>Carmencita</td>\n",
       "      <td>Carmencita</td>\n",
       "      <td>0.0</td>\n",
       "      <td>1894</td>\n",
       "      <td>\\N</td>\n",
       "      <td>1</td>\n",
       "      <td>Documentary,Short</td>\n",
       "    </tr>\n",
       "    <tr>\n",
       "      <th>1</th>\n",
       "      <td>tt0000002</td>\n",
       "      <td>short</td>\n",
       "      <td>Le clown et ses chiens</td>\n",
       "      <td>Le clown et ses chiens</td>\n",
       "      <td>0.0</td>\n",
       "      <td>1892</td>\n",
       "      <td>\\N</td>\n",
       "      <td>5</td>\n",
       "      <td>Animation,Short</td>\n",
       "    </tr>\n",
       "    <tr>\n",
       "      <th>2</th>\n",
       "      <td>tt0000003</td>\n",
       "      <td>short</td>\n",
       "      <td>Pauvre Pierrot</td>\n",
       "      <td>Pauvre Pierrot</td>\n",
       "      <td>0.0</td>\n",
       "      <td>1892</td>\n",
       "      <td>\\N</td>\n",
       "      <td>4</td>\n",
       "      <td>Animation,Comedy,Romance</td>\n",
       "    </tr>\n",
       "    <tr>\n",
       "      <th>3</th>\n",
       "      <td>tt0000004</td>\n",
       "      <td>short</td>\n",
       "      <td>Un bon bock</td>\n",
       "      <td>Un bon bock</td>\n",
       "      <td>0.0</td>\n",
       "      <td>1892</td>\n",
       "      <td>\\N</td>\n",
       "      <td>12</td>\n",
       "      <td>Animation,Short</td>\n",
       "    </tr>\n",
       "    <tr>\n",
       "      <th>4</th>\n",
       "      <td>tt0000005</td>\n",
       "      <td>short</td>\n",
       "      <td>Blacksmith Scene</td>\n",
       "      <td>Blacksmith Scene</td>\n",
       "      <td>0.0</td>\n",
       "      <td>1893</td>\n",
       "      <td>\\N</td>\n",
       "      <td>1</td>\n",
       "      <td>Comedy,Short</td>\n",
       "    </tr>\n",
       "    <tr>\n",
       "      <th>...</th>\n",
       "      <td>...</td>\n",
       "      <td>...</td>\n",
       "      <td>...</td>\n",
       "      <td>...</td>\n",
       "      <td>...</td>\n",
       "      <td>...</td>\n",
       "      <td>...</td>\n",
       "      <td>...</td>\n",
       "      <td>...</td>\n",
       "    </tr>\n",
       "    <tr>\n",
       "      <th>812187</th>\n",
       "      <td>tt0838676</td>\n",
       "      <td>tvEpisode</td>\n",
       "      <td>Kesshôsen da!! Kamehameha</td>\n",
       "      <td>Kesshôsen da!! Kamehameha</td>\n",
       "      <td>0.0</td>\n",
       "      <td>1986</td>\n",
       "      <td>\\N</td>\n",
       "      <td>24</td>\n",
       "      <td>Action,Adventure,Animation</td>\n",
       "    </tr>\n",
       "    <tr>\n",
       "      <th>812188</th>\n",
       "      <td>tt0838677</td>\n",
       "      <td>tvEpisode</td>\n",
       "      <td>Shôbu!! Kamehame-ha vs Dodon-pa</td>\n",
       "      <td>Shôbu!! Kamehame-ha vs Dodon-pa</td>\n",
       "      <td>0.0</td>\n",
       "      <td>1987</td>\n",
       "      <td>\\N</td>\n",
       "      <td>24</td>\n",
       "      <td>Action,Adventure,Animation</td>\n",
       "    </tr>\n",
       "    <tr>\n",
       "      <th>812189</th>\n",
       "      <td>tt0838678</td>\n",
       "      <td>tvEpisode</td>\n",
       "      <td>Makyô no seichi Karin</td>\n",
       "      <td>Makyô no seichi Karin</td>\n",
       "      <td>0.0</td>\n",
       "      <td>1987</td>\n",
       "      <td>\\N</td>\n",
       "      <td>24</td>\n",
       "      <td>Action,Adventure,Animation</td>\n",
       "    </tr>\n",
       "    <tr>\n",
       "      <th>812190</th>\n",
       "      <td>tt0838679</td>\n",
       "      <td>tvEpisode</td>\n",
       "      <td>Ayaushi! Kuririn</td>\n",
       "      <td>Ayaushi! Kuririn</td>\n",
       "      <td>0.0</td>\n",
       "      <td>1986</td>\n",
       "      <td>\\N</td>\n",
       "      <td>24</td>\n",
       "      <td>Action,Adventure,Animation</td>\n",
       "    </tr>\n",
       "    <tr>\n",
       "      <th>812191</th>\n",
       "      <td>tt0838680</td>\n",
       "      <td>tvEpisode</td>\n",
       "      <td>Kuririn hiss</td>\n",
       "      <td>NaN</td>\n",
       "      <td>NaN</td>\n",
       "      <td>NaN</td>\n",
       "      <td>NaN</td>\n",
       "      <td>NaN</td>\n",
       "      <td>NaN</td>\n",
       "    </tr>\n",
       "  </tbody>\n",
       "</table>\n",
       "<p>812192 rows × 9 columns</p>\n",
       "</div>"
      ],
      "text/plain": [
       "           tconst  titleType                     primaryTitle  \\\n",
       "0       tt0000001      short                       Carmencita   \n",
       "1       tt0000002      short           Le clown et ses chiens   \n",
       "2       tt0000003      short                   Pauvre Pierrot   \n",
       "3       tt0000004      short                      Un bon bock   \n",
       "4       tt0000005      short                 Blacksmith Scene   \n",
       "...           ...        ...                              ...   \n",
       "812187  tt0838676  tvEpisode        Kesshôsen da!! Kamehameha   \n",
       "812188  tt0838677  tvEpisode  Shôbu!! Kamehame-ha vs Dodon-pa   \n",
       "812189  tt0838678  tvEpisode            Makyô no seichi Karin   \n",
       "812190  tt0838679  tvEpisode                 Ayaushi! Kuririn   \n",
       "812191  tt0838680  tvEpisode                     Kuririn hiss   \n",
       "\n",
       "                          originalTitle  isAdult startYear endYear  \\\n",
       "0                            Carmencita      0.0      1894      \\N   \n",
       "1                Le clown et ses chiens      0.0      1892      \\N   \n",
       "2                        Pauvre Pierrot      0.0      1892      \\N   \n",
       "3                           Un bon bock      0.0      1892      \\N   \n",
       "4                      Blacksmith Scene      0.0      1893      \\N   \n",
       "...                                 ...      ...       ...     ...   \n",
       "812187        Kesshôsen da!! Kamehameha      0.0      1986      \\N   \n",
       "812188  Shôbu!! Kamehame-ha vs Dodon-pa      0.0      1987      \\N   \n",
       "812189            Makyô no seichi Karin      0.0      1987      \\N   \n",
       "812190                 Ayaushi! Kuririn      0.0      1986      \\N   \n",
       "812191                              NaN      NaN       NaN     NaN   \n",
       "\n",
       "       runtimeMinutes                      genres  \n",
       "0                   1           Documentary,Short  \n",
       "1                   5             Animation,Short  \n",
       "2                   4    Animation,Comedy,Romance  \n",
       "3                  12             Animation,Short  \n",
       "4                   1                Comedy,Short  \n",
       "...               ...                         ...  \n",
       "812187             24  Action,Adventure,Animation  \n",
       "812188             24  Action,Adventure,Animation  \n",
       "812189             24  Action,Adventure,Animation  \n",
       "812190             24  Action,Adventure,Animation  \n",
       "812191            NaN                         NaN  \n",
       "\n",
       "[812192 rows x 9 columns]"
      ]
     },
     "execution_count": 64,
     "metadata": {},
     "output_type": "execute_result"
    }
   ],
   "source": [
    "data2"
   ]
  },
  {
   "cell_type": "code",
   "execution_count": 30,
   "id": "29438c8e",
   "metadata": {},
   "outputs": [
    {
     "name": "stdout",
     "output_type": "stream",
     "text": [
      "<class 'pandas.core.frame.DataFrame'>\n",
      "RangeIndex: 812192 entries, 0 to 812191\n",
      "Data columns (total 9 columns):\n",
      " #   Column          Non-Null Count   Dtype  \n",
      "---  ------          --------------   -----  \n",
      " 0   tconst          812192 non-null  object \n",
      " 1   titleType       812192 non-null  object \n",
      " 2   primaryTitle    812192 non-null  object \n",
      " 3   originalTitle   812191 non-null  object \n",
      " 4   isAdult         812191 non-null  float64\n",
      " 5   startYear       812191 non-null  object \n",
      " 6   endYear         812191 non-null  object \n",
      " 7   runtimeMinutes  812191 non-null  object \n",
      " 8   genres          812191 non-null  object \n",
      "dtypes: float64(1), object(8)\n",
      "memory usage: 55.8+ MB\n"
     ]
    }
   ],
   "source": [
    "data2.info()"
   ]
  },
  {
   "cell_type": "code",
   "execution_count": 11,
   "id": "651a07a0",
   "metadata": {},
   "outputs": [],
   "source": [
    "data=pd.read_csv('basic_movie.tsv', sep='\\t')"
   ]
  },
  {
   "cell_type": "code",
   "execution_count": 65,
   "id": "04457872",
   "metadata": {},
   "outputs": [
    {
     "data": {
      "text/html": [
       "<div>\n",
       "<style scoped>\n",
       "    .dataframe tbody tr th:only-of-type {\n",
       "        vertical-align: middle;\n",
       "    }\n",
       "\n",
       "    .dataframe tbody tr th {\n",
       "        vertical-align: top;\n",
       "    }\n",
       "\n",
       "    .dataframe thead th {\n",
       "        text-align: right;\n",
       "    }\n",
       "</style>\n",
       "<table border=\"1\" class=\"dataframe\">\n",
       "  <thead>\n",
       "    <tr style=\"text-align: right;\">\n",
       "      <th></th>\n",
       "      <th>tconst</th>\n",
       "      <th>averageRating</th>\n",
       "      <th>numVotes</th>\n",
       "    </tr>\n",
       "  </thead>\n",
       "  <tbody>\n",
       "    <tr>\n",
       "      <th>0</th>\n",
       "      <td>tt0000001</td>\n",
       "      <td>5.7</td>\n",
       "      <td>1972</td>\n",
       "    </tr>\n",
       "    <tr>\n",
       "      <th>1</th>\n",
       "      <td>tt0000002</td>\n",
       "      <td>5.8</td>\n",
       "      <td>263</td>\n",
       "    </tr>\n",
       "    <tr>\n",
       "      <th>2</th>\n",
       "      <td>tt0000003</td>\n",
       "      <td>6.5</td>\n",
       "      <td>1819</td>\n",
       "    </tr>\n",
       "    <tr>\n",
       "      <th>3</th>\n",
       "      <td>tt0000004</td>\n",
       "      <td>5.6</td>\n",
       "      <td>178</td>\n",
       "    </tr>\n",
       "    <tr>\n",
       "      <th>4</th>\n",
       "      <td>tt0000005</td>\n",
       "      <td>6.2</td>\n",
       "      <td>2614</td>\n",
       "    </tr>\n",
       "    <tr>\n",
       "      <th>...</th>\n",
       "      <td>...</td>\n",
       "      <td>...</td>\n",
       "      <td>...</td>\n",
       "    </tr>\n",
       "    <tr>\n",
       "      <th>1311563</th>\n",
       "      <td>tt9916730</td>\n",
       "      <td>8.3</td>\n",
       "      <td>10</td>\n",
       "    </tr>\n",
       "    <tr>\n",
       "      <th>1311564</th>\n",
       "      <td>tt9916766</td>\n",
       "      <td>7.0</td>\n",
       "      <td>21</td>\n",
       "    </tr>\n",
       "    <tr>\n",
       "      <th>1311565</th>\n",
       "      <td>tt9916778</td>\n",
       "      <td>7.2</td>\n",
       "      <td>36</td>\n",
       "    </tr>\n",
       "    <tr>\n",
       "      <th>1311566</th>\n",
       "      <td>tt9916840</td>\n",
       "      <td>7.5</td>\n",
       "      <td>7</td>\n",
       "    </tr>\n",
       "    <tr>\n",
       "      <th>1311567</th>\n",
       "      <td>tt9916880</td>\n",
       "      <td>7.0</td>\n",
       "      <td>7</td>\n",
       "    </tr>\n",
       "  </tbody>\n",
       "</table>\n",
       "<p>1311568 rows × 3 columns</p>\n",
       "</div>"
      ],
      "text/plain": [
       "            tconst  averageRating  numVotes\n",
       "0        tt0000001            5.7      1972\n",
       "1        tt0000002            5.8       263\n",
       "2        tt0000003            6.5      1819\n",
       "3        tt0000004            5.6       178\n",
       "4        tt0000005            6.2      2614\n",
       "...            ...            ...       ...\n",
       "1311563  tt9916730            8.3        10\n",
       "1311564  tt9916766            7.0        21\n",
       "1311565  tt9916778            7.2        36\n",
       "1311566  tt9916840            7.5         7\n",
       "1311567  tt9916880            7.0         7\n",
       "\n",
       "[1311568 rows x 3 columns]"
      ]
     },
     "execution_count": 65,
     "metadata": {},
     "output_type": "execute_result"
    }
   ],
   "source": [
    "data"
   ]
  },
  {
   "cell_type": "code",
   "execution_count": 66,
   "id": "1f82fba8",
   "metadata": {},
   "outputs": [],
   "source": [
    "#데이터끼리 병합\n",
    "df=pd.merge(data, data2, on='tconst', how='inner')"
   ]
  },
  {
   "cell_type": "code",
   "execution_count": 67,
   "id": "c83ebd3e",
   "metadata": {},
   "outputs": [
    {
     "name": "stdout",
     "output_type": "stream",
     "text": [
      "<class 'pandas.core.frame.DataFrame'>\n",
      "Int64Index: 403744 entries, 0 to 403743\n",
      "Data columns (total 11 columns):\n",
      " #   Column          Non-Null Count   Dtype  \n",
      "---  ------          --------------   -----  \n",
      " 0   tconst          403744 non-null  object \n",
      " 1   averageRating   403744 non-null  float64\n",
      " 2   numVotes        403744 non-null  int64  \n",
      " 3   titleType       403744 non-null  object \n",
      " 4   primaryTitle    403744 non-null  object \n",
      " 5   originalTitle   403743 non-null  object \n",
      " 6   isAdult         403743 non-null  float64\n",
      " 7   startYear       403743 non-null  object \n",
      " 8   endYear         403743 non-null  object \n",
      " 9   runtimeMinutes  403743 non-null  object \n",
      " 10  genres          403743 non-null  object \n",
      "dtypes: float64(2), int64(1), object(8)\n",
      "memory usage: 37.0+ MB\n"
     ]
    }
   ],
   "source": [
    "#결측치 발견\n",
    "df.info()"
   ]
  },
  {
   "cell_type": "code",
   "execution_count": 68,
   "id": "80427e54",
   "metadata": {},
   "outputs": [],
   "source": [
    "#결측치 행 제거\n",
    "df.dropna(axis=0, inplace=True)"
   ]
  },
  {
   "cell_type": "code",
   "execution_count": 69,
   "id": "eb9c5b7f",
   "metadata": {},
   "outputs": [],
   "source": [
    "# 쓸 변수들만 뽑음\n",
    "df=df[['averageRating','numVotes', 'startYear', 'runtimeMinutes' ]]"
   ]
  },
  {
   "cell_type": "code",
   "execution_count": 70,
   "id": "e647c9be",
   "metadata": {},
   "outputs": [
    {
     "data": {
      "text/plain": [
       "array([ 5.7,  5.8,  6.5,  5.6,  6.2,  5.1,  5.4,  5.3,  6.9,  7.4,  7.1,\n",
       "        6.1,  5.9,  4.6,  4.8,  4.2,  3.8,  5.2,  5.5,  5. ,  4.4,  4.3,\n",
       "        3.3,  4. ,  6.7,  3.9,  3.2,  3.4,  3.1,  4.7,  2.8,  6.3,  3. ,\n",
       "        3.5,  4.9,  6.4,  4.5,  3.7,  4.1,  6. ,  2.7,  6.8,  2.6,  7.3,\n",
       "        7.6,  3.6,  8.2,  6.6,  7.5,  8.5,  7.2,  7.8,  8.3,  8.1,  2.4,\n",
       "        7. ,  2.9,  7.7,  8. ,  8.9,  8.8,  9. ,  9.1,  8.4,  8.7,  2.2,\n",
       "        1.4,  2. ,  7.9,  1. ,  1.6,  2.3,  1.1,  2.1,  1.5,  8.6,  9.2,\n",
       "        1.8,  1.7,  1.3,  1.9,  2.5,  9.4,  1.2,  9.7,  9.3,  9.6,  9.5,\n",
       "        9.9,  9.8, 10. ])"
      ]
     },
     "execution_count": 70,
     "metadata": {},
     "output_type": "execute_result"
    }
   ],
   "source": [
    "df['averageRating'].unique()"
   ]
  },
  {
   "cell_type": "code",
   "execution_count": 71,
   "id": "1d2a4082",
   "metadata": {},
   "outputs": [
    {
     "data": {
      "text/plain": [
       "array([  1972,    263,   1819, ...,  46584,  39650, 304442], dtype=int64)"
      ]
     },
     "execution_count": 71,
     "metadata": {},
     "output_type": "execute_result"
    }
   ],
   "source": [
    "df['numVotes'].unique()"
   ]
  },
  {
   "cell_type": "code",
   "execution_count": 72,
   "id": "2ec2806d",
   "metadata": {},
   "outputs": [
    {
     "data": {
      "text/plain": [
       "array(['1894', '1892', '1893', '1895', '1896', '1898', '1897', '1900',\n",
       "       '1899', '1901', '1902', '1903', '1904', '1912', '1907', '1905',\n",
       "       '1906', '1908', '1910', '1909', '1914', '1911', '1913', '1919',\n",
       "       '1916', '1917', '1915', '1918', '1936', '1925', '1922', '1920',\n",
       "       '1921', '1923', '1924', '2021', '1927', '1929', '2000', '1926',\n",
       "       '1993', '1935', '1928', '1942', '1930', '1931', '1932', '1939',\n",
       "       '1937', '1950', '1933', '1938', '1951', '1934', '1945', '1946',\n",
       "       '1940', '1944', '1949', '1947', '1941', '1952', '1970', '1957',\n",
       "       '1943', '1959', '1948', '2001', '1953', '1954', '1965', '1983',\n",
       "       '1980', '1973', '1961', '1995', '1955', '1962', '1958', '1956',\n",
       "       '1977', '1960', '1964', '1967', '1963', '1968', '2023', '1971',\n",
       "       '1969', '1972', '1966', '1976', '1990', '2016', '1979', '1974',\n",
       "       '1981', '2020', '1988', '1978', '1989', '2014', '1975', '1986',\n",
       "       '1985', '1987', '2010', '2018', '1992', '1984', '1982', '1991',\n",
       "       '1996', '1999', '2005', '2019', '1998', '\\\\N', '1994', '2002',\n",
       "       '1997', '2009', '2004', '2022', '2017', '2006', '2015', '2003',\n",
       "       '2008', '2007', '2012', '2013', '2011', '1891', '1888', '1890',\n",
       "       '1889'], dtype=object)"
      ]
     },
     "execution_count": 72,
     "metadata": {},
     "output_type": "execute_result"
    }
   ],
   "source": [
    "df['startYear'].unique()\n",
    "#무의미한 값 확인"
   ]
  },
  {
   "cell_type": "code",
   "execution_count": 73,
   "id": "9eb12007",
   "metadata": {},
   "outputs": [
    {
     "data": {
      "text/plain": [
       "array(['1', '5', '4', '12', '45', '2', '\\\\N', '0', '3', '100', '13', '6',\n",
       "       '40', '11', '10', '8', '21', '16', '14', '7', '24', '15', '9',\n",
       "       '17', '70', '90', '20', '25', '120', '44', '38', '58', '22', '18',\n",
       "       '33', '50', '19', '34', '35', '42', '23', '30', '51', '52', '60',\n",
       "       '36', '28', '56', '26', '53', '31', '41', '48', '47', '68', '29',\n",
       "       '71', '43', '46', '27', '32', '85', '55', '150', '300', '121',\n",
       "       '69', '54', '64', '96', '49', '61', '39', '99', '110', '88', '86',\n",
       "       '170', '72', '78', '75', '450', '148', '37', '124', '220', '59',\n",
       "       '63', '112', '1428', '84', '65', '74', '105', '310', '73', '81',\n",
       "       '199', '109', '67', '80', '82', '195', '440', '77', '79', '62',\n",
       "       '66', '57', '421', '360', '180', '163', '93', '400', '95', '140',\n",
       "       '116', '83', '125', '97', '138', '350', '374', '330', '91', '87',\n",
       "       '108', '136', '94', '117', '92', '410', '135', '76', '418', '223',\n",
       "       '489', '102', '119', '122', '115', '207', '166', '238', '106',\n",
       "       '111', '145', '172', '167', '103', '130', '206', '157', '107',\n",
       "       '200', '165', '248', '104', '235', '184', '89', '131', '380', '98',\n",
       "       '242', '128', '143', '137', '101', '183', '210', '133', '417',\n",
       "       '141', '162', '153', '132', '129', '123', '144', '155', '151',\n",
       "       '114', '113', '359', '118', '126', '179', '230', '168', '250',\n",
       "       '160', '142', '139', '185', '156', '127', '215', '213', '149',\n",
       "       '147', '266', '152', '217', '158', '226', '134', '194', '225',\n",
       "       '216', '227', '240', '231', '218', '246', '243', '279', '208',\n",
       "       '228', '229', '212', '236', '306', '257', '245', '197', '255',\n",
       "       '219', '323', '305', '328', '269', '176', '232', '258', '256',\n",
       "       '281', '303', '290', '308', '224', '294', '252', '268', '260',\n",
       "       '204', '298', '299', '264', '211', '302', '263', '320', '265',\n",
       "       '205', '154', '237', '285', '146', '293', '267', '247', '186',\n",
       "       '241', '289', '177', '283', '270', '251', '278', '196', '261',\n",
       "       '275', '280', '244', '189', '169', '284', '295', '201', '221',\n",
       "       '159', '192', '171', '164', '193', '287', '161', '181', '175',\n",
       "       '174', '173', '315', '182', '239', '178', '188', '497', '209',\n",
       "       '190', '327', '317', '191', '480', '234', '288', '438', '453',\n",
       "       '378', '316', '340', '203', '253', '344', '540', '476', '451',\n",
       "       '321', '202', '348', '890', '309', '653', '431', '390', '187',\n",
       "       '370', '396', '282', '471', '669', '467', '566', '286', '274',\n",
       "       '763', '770', '311', '198', '500', '373', '382', '596', '1335',\n",
       "       '588', '750', '273', '442', '599', '333', '614', '1256', '385',\n",
       "       '780', '510', '475', '271', '600', '262', '420', '291', '366',\n",
       "       '840', '742', '931', '676', '547', '673', '358', '394', '301',\n",
       "       '233', '381', '659', '752', '504', '720', '520', '460', '883',\n",
       "       '313', '778', '413', '402', '700', '272', '222', '924', '391',\n",
       "       '561', '428', '437', '416', '367', '307', '304', '570', '569',\n",
       "       '371', '415', '376', '870', '312', '572', '407', '331', '375',\n",
       "       '1271', '436', '296', '355', '353', '357', '873', '384', '1290',\n",
       "       '345', '1620', '318', '335', '680', '398', '567', '606', '214',\n",
       "       '501', '322', '834', '735', '1140', '522', '361', '276', '439',\n",
       "       '314', '515', '762', '528', '623', '537', '336', '341', '568',\n",
       "       '571', '556', '386', '383', '650', '292', '343', '277', '698',\n",
       "       '401', '377', '672', '465', '702', '660', '622', '356', '1352',\n",
       "       '1320', '395', '583', '339', '559', '259', '351', '388', '325',\n",
       "       '1120', '254', '455', '554', '612', '616', '349', '458', '1500',\n",
       "       '594', '485', '495', '347', '487', '1800', '577', '1440', '2800',\n",
       "       '491', '1100', '406', '776', '369', '297', '804', '445', '960',\n",
       "       '615', '535', '392', '663', '693', '580', '425', '544', '5220',\n",
       "       '877', '1080', '624', '389', '545', '640', '446', '372', '629',\n",
       "       '678', '1300', '352', '689', '793', '2925', '608', '2880', '462',\n",
       "       '1084', '457', '338', '550', '701', '657', '249', '530', '346',\n",
       "       '574', '738', '354', '551', '1020', '1200', '646', '579', '820',\n",
       "       '704', '630', '408', '552', '999', '710', '715', '514', '1664',\n",
       "       '1710', '1035', '1370', '1350', '1410', '1380', '585', '730',\n",
       "       '364', '516', '705', '3600', '1196', '765', '502', '541', '414',\n",
       "       '652', '1040', '1442', '598', '526', '334', '1248', '441', '543',\n",
       "       '1932', '466', '538', '4800', '363', '3900', '2150', '403', '434',\n",
       "       '1170', '527', '636', '575'], dtype=object)"
      ]
     },
     "execution_count": 73,
     "metadata": {},
     "output_type": "execute_result"
    }
   ],
   "source": [
    "df['runtimeMinutes'].unique()\n",
    "#무의미한 값 확인"
   ]
  },
  {
   "cell_type": "code",
   "execution_count": 83,
   "id": "1158c6aa",
   "metadata": {},
   "outputs": [],
   "source": [
    "#무의미한 값 제거\n",
    "df=df[(df['runtimeMinutes']!='\\\\N')&(df['startYear']!='\\\\N')]"
   ]
  },
  {
   "cell_type": "code",
   "execution_count": 84,
   "id": "c3ecd536",
   "metadata": {},
   "outputs": [
    {
     "data": {
      "text/plain": [
       "array(['1', '5', '4', '12', '45', '2', '0', '3', '100', '13', '6', '40',\n",
       "       '11', '10', '8', '21', '16', '14', '7', '24', '15', '9', '17',\n",
       "       '70', '90', '20', '25', '120', '44', '38', '58', '22', '18', '33',\n",
       "       '50', '19', '34', '35', '42', '23', '30', '51', '52', '60', '36',\n",
       "       '28', '56', '26', '53', '31', '41', '48', '47', '68', '29', '71',\n",
       "       '43', '46', '27', '32', '85', '55', '150', '300', '121', '69',\n",
       "       '54', '64', '96', '49', '61', '39', '99', '110', '88', '86', '170',\n",
       "       '72', '78', '75', '450', '148', '37', '124', '220', '59', '63',\n",
       "       '112', '1428', '84', '65', '74', '105', '310', '73', '81', '199',\n",
       "       '109', '67', '80', '82', '195', '440', '77', '79', '62', '66',\n",
       "       '57', '421', '360', '180', '163', '93', '400', '95', '140', '116',\n",
       "       '83', '125', '97', '138', '350', '374', '330', '91', '87', '108',\n",
       "       '136', '94', '117', '92', '410', '135', '76', '418', '223', '489',\n",
       "       '102', '119', '122', '115', '207', '166', '238', '106', '111',\n",
       "       '145', '172', '167', '103', '130', '206', '157', '107', '200',\n",
       "       '165', '248', '104', '235', '184', '89', '131', '380', '98', '242',\n",
       "       '128', '143', '137', '101', '183', '210', '133', '417', '141',\n",
       "       '162', '153', '132', '129', '123', '144', '155', '151', '114',\n",
       "       '113', '359', '118', '126', '179', '230', '168', '250', '160',\n",
       "       '142', '139', '185', '156', '127', '215', '213', '149', '147',\n",
       "       '266', '152', '217', '158', '226', '134', '194', '225', '216',\n",
       "       '227', '240', '231', '218', '246', '243', '279', '208', '228',\n",
       "       '229', '212', '236', '306', '257', '245', '197', '255', '219',\n",
       "       '323', '305', '328', '269', '176', '232', '258', '256', '281',\n",
       "       '303', '290', '308', '224', '294', '252', '268', '260', '204',\n",
       "       '298', '299', '264', '211', '302', '263', '320', '265', '205',\n",
       "       '154', '237', '285', '146', '293', '267', '247', '186', '241',\n",
       "       '289', '177', '283', '270', '251', '278', '196', '261', '275',\n",
       "       '280', '244', '189', '169', '284', '295', '201', '221', '159',\n",
       "       '192', '171', '164', '193', '287', '161', '181', '175', '174',\n",
       "       '173', '315', '182', '239', '178', '188', '497', '209', '190',\n",
       "       '327', '317', '191', '480', '234', '288', '438', '453', '378',\n",
       "       '316', '340', '203', '253', '344', '540', '476', '451', '321',\n",
       "       '202', '348', '890', '309', '653', '431', '390', '187', '370',\n",
       "       '396', '282', '471', '669', '467', '566', '286', '274', '763',\n",
       "       '770', '311', '198', '500', '373', '382', '596', '1335', '588',\n",
       "       '750', '273', '442', '599', '333', '614', '1256', '385', '780',\n",
       "       '510', '475', '271', '600', '262', '420', '291', '366', '840',\n",
       "       '742', '931', '676', '547', '673', '358', '394', '301', '233',\n",
       "       '381', '659', '752', '504', '720', '520', '460', '883', '313',\n",
       "       '778', '413', '402', '700', '272', '222', '924', '391', '561',\n",
       "       '428', '437', '416', '367', '307', '304', '570', '569', '371',\n",
       "       '415', '376', '870', '312', '572', '407', '331', '375', '1271',\n",
       "       '436', '296', '355', '353', '357', '873', '384', '1290', '345',\n",
       "       '1620', '318', '335', '680', '398', '567', '606', '214', '501',\n",
       "       '322', '834', '735', '1140', '522', '361', '276', '439', '314',\n",
       "       '515', '762', '528', '623', '537', '336', '341', '568', '571',\n",
       "       '556', '386', '383', '650', '292', '343', '277', '698', '401',\n",
       "       '377', '672', '465', '702', '660', '622', '356', '1352', '1320',\n",
       "       '395', '583', '339', '559', '259', '351', '388', '325', '1120',\n",
       "       '254', '455', '554', '612', '616', '349', '458', '1500', '594',\n",
       "       '485', '495', '347', '487', '1800', '577', '1440', '2800', '491',\n",
       "       '1100', '406', '776', '369', '297', '804', '445', '960', '615',\n",
       "       '535', '392', '663', '693', '580', '425', '544', '5220', '877',\n",
       "       '1080', '624', '389', '545', '640', '446', '372', '629', '678',\n",
       "       '1300', '352', '689', '793', '2925', '608', '2880', '462', '1084',\n",
       "       '457', '338', '550', '701', '657', '249', '530', '346', '574',\n",
       "       '738', '354', '551', '1020', '1200', '646', '579', '820', '704',\n",
       "       '630', '408', '552', '999', '710', '715', '514', '1664', '1710',\n",
       "       '1035', '1370', '1350', '1410', '1380', '585', '730', '364', '516',\n",
       "       '705', '3600', '1196', '765', '502', '541', '414', '652', '1040',\n",
       "       '1442', '598', '526', '334', '1248', '441', '543', '1932', '466',\n",
       "       '538', '4800', '363', '3900', '2150', '403', '434', '1170', '527',\n",
       "       '636', '575'], dtype=object)"
      ]
     },
     "execution_count": 84,
     "metadata": {},
     "output_type": "execute_result"
    }
   ],
   "source": [
    "#제거됨 확인\n",
    "df['runtimeMinutes'].unique()"
   ]
  },
  {
   "cell_type": "code",
   "execution_count": 89,
   "id": "2cf7fe43",
   "metadata": {},
   "outputs": [],
   "source": [
    "data=df.drop(labels='averageRating', axis=1, inplace=False)"
   ]
  },
  {
   "cell_type": "code",
   "execution_count": 90,
   "id": "d211bbd4",
   "metadata": {},
   "outputs": [],
   "source": [
    "label=df['averageRating']"
   ]
  },
  {
   "cell_type": "code",
   "execution_count": 104,
   "id": "8f1edd5f",
   "metadata": {},
   "outputs": [
    {
     "data": {
      "text/plain": [
       "0         5.7\n",
       "1         5.8\n",
       "2         6.5\n",
       "3         5.6\n",
       "4         6.2\n",
       "         ... \n",
       "403738    7.7\n",
       "403739    7.7\n",
       "403740    8.1\n",
       "403741    7.7\n",
       "403742    7.2\n",
       "Name: averageRating, Length: 330733, dtype: float64"
      ]
     },
     "execution_count": 104,
     "metadata": {},
     "output_type": "execute_result"
    }
   ],
   "source": [
    "label"
   ]
  },
  {
   "cell_type": "code",
   "execution_count": 107,
   "id": "e7ceb224",
   "metadata": {},
   "outputs": [],
   "source": [
    "from sklearn.model_selection import train_test_split\n",
    "\n",
    "x_train, x_test, y_train, y_test = train_test_split(df.drop(labels='averageRating', axis=1, inplace=False), df['averageRating'] ,test_size=0.3)"
   ]
  },
  {
   "cell_type": "code",
   "execution_count": 108,
   "id": "47822d1f",
   "metadata": {},
   "outputs": [
    {
     "data": {
      "text/html": [
       "<div>\n",
       "<style scoped>\n",
       "    .dataframe tbody tr th:only-of-type {\n",
       "        vertical-align: middle;\n",
       "    }\n",
       "\n",
       "    .dataframe tbody tr th {\n",
       "        vertical-align: top;\n",
       "    }\n",
       "\n",
       "    .dataframe thead th {\n",
       "        text-align: right;\n",
       "    }\n",
       "</style>\n",
       "<table border=\"1\" class=\"dataframe\">\n",
       "  <thead>\n",
       "    <tr style=\"text-align: right;\">\n",
       "      <th></th>\n",
       "      <th>numVotes</th>\n",
       "      <th>startYear</th>\n",
       "      <th>runtimeMinutes</th>\n",
       "    </tr>\n",
       "  </thead>\n",
       "  <tbody>\n",
       "    <tr>\n",
       "      <th>128934</th>\n",
       "      <td>17</td>\n",
       "      <td>1934</td>\n",
       "      <td>102</td>\n",
       "    </tr>\n",
       "    <tr>\n",
       "      <th>291148</th>\n",
       "      <td>64</td>\n",
       "      <td>2002</td>\n",
       "      <td>22</td>\n",
       "    </tr>\n",
       "    <tr>\n",
       "      <th>318071</th>\n",
       "      <td>107</td>\n",
       "      <td>1991</td>\n",
       "      <td>24</td>\n",
       "    </tr>\n",
       "    <tr>\n",
       "      <th>243730</th>\n",
       "      <td>227</td>\n",
       "      <td>2005</td>\n",
       "      <td>300</td>\n",
       "    </tr>\n",
       "    <tr>\n",
       "      <th>105709</th>\n",
       "      <td>57</td>\n",
       "      <td>1998</td>\n",
       "      <td>82</td>\n",
       "    </tr>\n",
       "    <tr>\n",
       "      <th>...</th>\n",
       "      <td>...</td>\n",
       "      <td>...</td>\n",
       "      <td>...</td>\n",
       "    </tr>\n",
       "    <tr>\n",
       "      <th>64366</th>\n",
       "      <td>794</td>\n",
       "      <td>1985</td>\n",
       "      <td>91</td>\n",
       "    </tr>\n",
       "    <tr>\n",
       "      <th>13435</th>\n",
       "      <td>238</td>\n",
       "      <td>1938</td>\n",
       "      <td>77</td>\n",
       "    </tr>\n",
       "    <tr>\n",
       "      <th>28536</th>\n",
       "      <td>25472</td>\n",
       "      <td>1955</td>\n",
       "      <td>90</td>\n",
       "    </tr>\n",
       "    <tr>\n",
       "      <th>324014</th>\n",
       "      <td>53</td>\n",
       "      <td>1950</td>\n",
       "      <td>30</td>\n",
       "    </tr>\n",
       "    <tr>\n",
       "      <th>209307</th>\n",
       "      <td>1447</td>\n",
       "      <td>2003</td>\n",
       "      <td>102</td>\n",
       "    </tr>\n",
       "  </tbody>\n",
       "</table>\n",
       "<p>231513 rows × 3 columns</p>\n",
       "</div>"
      ],
      "text/plain": [
       "        numVotes startYear runtimeMinutes\n",
       "128934        17      1934            102\n",
       "291148        64      2002             22\n",
       "318071       107      1991             24\n",
       "243730       227      2005            300\n",
       "105709        57      1998             82\n",
       "...          ...       ...            ...\n",
       "64366        794      1985             91\n",
       "13435        238      1938             77\n",
       "28536      25472      1955             90\n",
       "324014        53      1950             30\n",
       "209307      1447      2003            102\n",
       "\n",
       "[231513 rows x 3 columns]"
      ]
     },
     "execution_count": 108,
     "metadata": {},
     "output_type": "execute_result"
    }
   ],
   "source": [
    "x_train"
   ]
  },
  {
   "cell_type": "code",
   "execution_count": 93,
   "id": "1daa9f49",
   "metadata": {},
   "outputs": [],
   "source": [
    "from sklearn import neighbors\n",
    "from sklearn.metrics import mean_squared_error\n",
    "from math import sqrt\n",
    "import numpy as np"
   ]
  },
  {
   "cell_type": "code",
   "execution_count": 109,
   "id": "f6e62070",
   "metadata": {
    "scrolled": true
   },
   "outputs": [
    {
     "name": "stdout",
     "output_type": "stream",
     "text": [
      "RMSE value k 1 = 1.5045947567300106\n",
      "RMSE value k 2 = 1.3058384546887887\n",
      "RMSE value k 3 = 1.2330676560820986\n",
      "RMSE value k 4 = 1.1938315014059748\n",
      "RMSE value k 5 = 1.1709429695832878\n",
      "RMSE value k 6 = 1.1567916378654641\n",
      "RMSE value k 7 = 1.1470098015121053\n",
      "RMSE value k 8 = 1.1383036668575104\n",
      "RMSE value k 9 = 1.131762010932371\n",
      "RMSE value k 10 = 1.1270767228211114\n",
      "RMSE value k 11 = 1.1229422593435017\n",
      "RMSE value k 12 = 1.1201958333676212\n",
      "RMSE value k 13 = 1.117843018978851\n",
      "RMSE value k 14 = 1.115807723791705\n",
      "RMSE value k 15 = 1.1137977323996109\n",
      "RMSE value k 16 = 1.112501536916672\n",
      "RMSE value k 17 = 1.1114708097457537\n",
      "RMSE value k 18 = 1.110400893281637\n",
      "RMSE value k 19 = 1.109146974015894\n",
      "RMSE value k 20 = 1.1082433823294051\n"
     ]
    }
   ],
   "source": [
    "rmse_val =[]\n",
    "for K in range(20):\n",
    "    K = K+1\n",
    "    model = neighbors.KNeighborsRegressor(n_neighbors = K)\n",
    "    model.fit(x_train, y_train)\n",
    "    pred = model.predict(x_test)\n",
    "    error = sqrt(mean_squared_error(y_test,pred))\n",
    "    rmse_val.append(error)\n",
    "    print('RMSE value k',K,'=',error)"
   ]
  },
  {
   "cell_type": "code",
   "execution_count": 95,
   "id": "e2803dfd",
   "metadata": {},
   "outputs": [
    {
     "name": "stdout",
     "output_type": "stream",
     "text": [
      "RMSE value k 1 = 1.503957421545373\n",
      "RMSE value k 2 = 1.336260810653938\n",
      "RMSE value k 3 = 1.2797984453344033\n",
      "RMSE value k 4 = 1.2509751862412881\n",
      "RMSE value k 5 = 1.2348060483762722\n",
      "RMSE value k 6 = 1.2237056987794313\n",
      "RMSE value k 7 = 1.2162730709246046\n",
      "RMSE value k 8 = 1.210986606501342\n",
      "RMSE value k 9 = 1.2065798089602382\n",
      "RMSE value k 10 = 1.2028625297034272\n",
      "RMSE value k 11 = 1.2002620602841005\n",
      "RMSE value k 12 = 1.1980813785733024\n",
      "RMSE value k 13 = 1.1963081373325546\n",
      "RMSE value k 14 = 1.1946936582915746\n",
      "RMSE value k 15 = 1.1932271923066964\n",
      "RMSE value k 16 = 1.1917435139132604\n",
      "RMSE value k 17 = 1.1908693119232556\n",
      "RMSE value k 18 = 1.1900517492312674\n",
      "RMSE value k 19 = 1.189281088551413\n",
      "RMSE value k 20 = 1.1886529945905957\n",
      "가장 최소 rmse 1.1886529945905957 가장 최소 k 19\n"
     ]
    }
   ],
   "source": [
    "rmse_val=[]\n",
    "\n",
    "for K in range(20):\n",
    "    K=K+1\n",
    "    model=neighbors.KNeighborsRegressor(n_neighbors=K, weights='distance')\n",
    "    model.fit(x_train, y_train)\n",
    "    pred=model.predict(x_test)\n",
    "    error=np.sqrt(mean_squared_error(y_test, pred))\n",
    "    rmse_val.append(error)\n",
    "    print('RMSE value k', K ,'=', error)\n",
    "print('가장 최소 rmse', min(rmse_val), '가장 최소 k', rmse_val.index(min(rmse_val)))"
   ]
  },
  {
   "cell_type": "code",
   "execution_count": 96,
   "id": "54830146",
   "metadata": {},
   "outputs": [
    {
     "data": {
      "text/plain": [
       "<AxesSubplot:>"
      ]
     },
     "execution_count": 96,
     "metadata": {},
     "output_type": "execute_result"
    },
    {
     "data": {
      "image/png": "[encoded data removed]",
      "text/plain": [
       "<Figure size 640x480 with 1 Axes>"
      ]
     },
     "metadata": {},
     "output_type": "display_data"
    }
   ],
   "source": [
    "curve=pd.DataFrame(rmse_val)\n",
    "curve.plot()"
   ]
  },
  {
   "cell_type": "code",
   "execution_count": 100,
   "id": "845503e3",
   "metadata": {},
   "outputs": [
    {
     "name": "stdout",
     "output_type": "stream",
     "text": [
      "RMSE value k 1 = 1.503957421545373\n",
      "RMSE value k 2 = 1.336260810653938\n",
      "RMSE value k 3 = 1.2797984453344033\n",
      "RMSE value k 4 = 1.2509751862412881\n",
      "RMSE value k 5 = 1.2348060483762722\n",
      "RMSE value k 6 = 1.2237056987794313\n",
      "RMSE value k 7 = 1.2162730709246046\n",
      "RMSE value k 8 = 1.210986606501342\n",
      "RMSE value k 9 = 1.2065798089602382\n",
      "RMSE value k 10 = 1.2028625297034272\n",
      "RMSE value k 11 = 1.2002620602841005\n",
      "RMSE value k 12 = 1.1980813785733024\n",
      "RMSE value k 13 = 1.1963081373325546\n",
      "RMSE value k 14 = 1.1946936582915746\n",
      "RMSE value k 15 = 1.1932271923066964\n",
      "RMSE value k 16 = 1.1917435139132604\n",
      "RMSE value k 17 = 1.1908693119232556\n",
      "RMSE value k 18 = 1.1900517492312674\n",
      "RMSE value k 19 = 1.189281088551413\n",
      "RMSE value k 20 = 1.1886529945905957\n",
      "가장최소 rmse 1.1886529945905957 가장 최소 k 39\n"
     ]
    }
   ],
   "source": [
    "#유클리디안 거리\n",
    "for K in range(20):\n",
    "    K=K+1\n",
    "    model=neighbors.KNeighborsRegressor(n_neighbors=K, weights='distance', p=2)\n",
    "    model.fit(x_train, y_train)\n",
    "    pred=model.predict(x_test)\n",
    "    error=np.sqrt(mean_squared_error(y_test, pred))\n",
    "    rmse_val.append(error)\n",
    "    print('RMSE value k', K ,'=', error)\n",
    "print('가장최소 rmse',min(rmse_val), '가장 최소 k', rmse_val.index(min(rmse_val)))"
   ]
  },
  {
   "cell_type": "code",
   "execution_count": 99,
   "id": "92147ff4",
   "metadata": {},
   "outputs": [
    {
     "name": "stdout",
     "output_type": "stream",
     "text": [
      "RMSE value k 1 = 1.5033053014169453\n",
      "RMSE value k 2 = 1.3374780909980046\n",
      "RMSE value k 3 = 1.28198461922241\n",
      "RMSE value k 4 = 1.2537296271638105\n",
      "RMSE value k 5 = 1.2372707779115957\n",
      "RMSE value k 6 = 1.2266583972412042\n",
      "RMSE value k 7 = 1.2183711344188188\n",
      "RMSE value k 8 = 1.2128715232757425\n",
      "RMSE value k 9 = 1.2080756348112056\n",
      "RMSE value k 10 = 1.204545460719413\n",
      "RMSE value k 11 = 1.2015087299128542\n",
      "RMSE value k 12 = 1.1989995524931318\n",
      "RMSE value k 13 = 1.1967789420059989\n",
      "RMSE value k 14 = 1.1952653872820398\n",
      "RMSE value k 15 = 1.1937762735114474\n",
      "RMSE value k 16 = 1.1922283413082755\n",
      "RMSE value k 17 = 1.1914835394106316\n",
      "RMSE value k 18 = 1.1904005193290301\n",
      "RMSE value k 19 = 1.189687336961677\n",
      "RMSE value k 20 = 1.18877177621347\n",
      "가장최소 rmse 1.18877177621347 가장 최소 k 19\n"
     ]
    }
   ],
   "source": [
    "#민코프스키 거리 \n",
    "rmse_val =[]\n",
    "for K in range(20):\n",
    "    K = K+1\n",
    "    model = neighbors.KNeighborsRegressor(n_neighbors = K,weights='distance',p=1)\n",
    "    model.fit(x_train, y_train)\n",
    "    pred = model.predict(x_test)\n",
    "    error = sqrt(mean_squared_error(y_test,pred))\n",
    "    rmse_val.append(error)\n",
    "    print('RMSE value k',K,'=',error)\n",
    "print('가장최소 rmse',min(rmse_val), '가장 최소 k', rmse_val.index(min(rmse_val)))"
   ]
  },
  {
   "cell_type": "code",
   "execution_count": 110,
   "id": "8d32c915",
   "metadata": {},
   "outputs": [
    {
     "name": "stdout",
     "output_type": "stream",
     "text": [
      "RMSE value k 1 = 1.5051718606775002\n",
      "RMSE value k 2 = 1.3376750828408928\n",
      "RMSE value k 3 = 1.2812096099426045\n",
      "RMSE value k 4 = 1.2542349557503525\n",
      "RMSE value k 5 = 1.2380262685785153\n",
      "RMSE value k 6 = 1.2283870483328847\n",
      "RMSE value k 7 = 1.2208476200859586\n",
      "RMSE value k 8 = 1.2151030512974907\n",
      "RMSE value k 9 = 1.2109093696178765\n",
      "RMSE value k 10 = 1.2073599443162755\n",
      "RMSE value k 11 = 1.2049787805924759\n",
      "RMSE value k 12 = 1.20268142680864\n",
      "RMSE value k 13 = 1.200762117247225\n",
      "RMSE value k 14 = 1.1992262514294754\n",
      "RMSE value k 15 = 1.1976836438797183\n",
      "RMSE value k 16 = 1.1967640741330565\n",
      "RMSE value k 17 = 1.1959144319337958\n",
      "RMSE value k 18 = 1.1950566558182365\n",
      "RMSE value k 19 = 1.1940441160560211\n",
      "RMSE value k 20 = 1.1935005255775297\n",
      "가장최소 rmse 1.1082433823294051 가장 최소 k 19\n"
     ]
    }
   ],
   "source": [
    "#쳬비셰프거리\n",
    "for K in range(20):\n",
    "    K=K+1\n",
    "    model=neighbors.KNeighborsRegressor(n_neighbors=K, weights='distance', p=3)\n",
    "    model.fit(x_train, y_train)\n",
    "    pred=model.predict(x_test)\n",
    "    error=np.sqrt(mean_squared_error(y_test, pred))\n",
    "    rmse_val.append(error)\n",
    "    print('RMSE value k', K ,'=', error)\n",
    "print('가장최소 rmse',min(rmse_val), '가장 최소 k', rmse_val.index(min(rmse_val)))"
   ]
  }
 ],
 "metadata": {
  "kernelspec": {
   "display_name": "Python 3 (ipykernel)",
   "language": "python",
   "name": "python3"
  },
  "language_info": {
   "codemirror_mode": {
    "name": "ipython",
    "version": 3
   },
   "file_extension": ".py",
   "mimetype": "text/x-python",
   "name": "python",
   "nbconvert_exporter": "python",
   "pygments_lexer": "ipython3",
   "version": "3.9.13"
  }
 },
 "nbformat": 4,
 "nbformat_minor": 5
}
