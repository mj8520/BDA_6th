{
 "cells": [
  {
   "cell_type": "code",
   "execution_count": 2,
   "id": "e0537669",
   "metadata": {},
   "outputs": [],
   "source": [
    "import pandas as pd\n",
    "import numpy as np\n",
    "from sklearn.preprocessing import LabelEncoder\n",
    "import lightgbm as lgb\n",
    "import gc\n",
    "from sklearn.model_selection import cross_val_score, cross_validate\n",
    "from sklearn.model_selection import train_test_split"
   ]
  },
  {
   "cell_type": "markdown",
   "id": "58f03dcf",
   "metadata": {},
   "source": [
    "정밀도/재현율 트레이드 오프\n",
    "\n",
    "사이킷런은 분류 알고리즘은 (이진분류)\n",
    "특정 레이블(1,0)에 속하는지 계산하기 위해서 -> 레이블 결정 확률 구하는 것\n",
    "이진 분류시 임계값 조절시에는 binarizer(threshold=값) 조정 가능 구글링 진행"
   ]
  },
  {
   "cell_type": "markdown",
   "id": "545c1a92",
   "metadata": {},
   "source": [
    "# 정밀도와 재현율은 어떤 상황에서 중요한 지표로 선택될 것인가?\n",
    "- 재현율이 중요한 경우 : 실제 양성인걸 음성으로 잘못 판단 (ex. 암 판단)\n",
    "- 보험사기 (대출사기) : 1인 사기인데 0으로 판단하면 안됨 \n",
    "- 0을 잘못해서 1로 판단 -> 큰 비용이 들진 않음\n",
    "\n",
    "\n",
    "- 정밀도가 중요한 경우\n",
    "- 스팸 메일 판단할 때 양성인걸 음성으로 판단할 때 -> 그래도 괜찮음 (큰 문제 ㄴㄴ)\n",
    "- 반대로 일반 메일을 스팸으로 분류 -> 큰일 !"
   ]
  },
  {
   "cell_type": "markdown",
   "id": "0d58bc38",
   "metadata": {},
   "source": [
    "# F1 스코어\n",
    "- 정밀도와 재현율의 조화평균\n",
    "- 어느 한 쪽으로 치우치지 않은 수치를 나타낼 때\n",
    "- 0.1과 0.9일때보다 0.5와 0.5일 때 성능이 더 좋다 (즉, 치우친 값들보다 비슷한 지표가 더 성능 좋음)"
   ]
  },
  {
   "cell_type": "code",
   "execution_count": null,
   "id": "e578209f",
   "metadata": {},
   "outputs": [],
   "source": [
    "# ROC Curve와 AUC\n",
    "- 이진분류 예측에서 사용\n",
    "- 이진분류 예측 성능 측정에서 중요함\n",
    "- x축이 TP rate, Y축이 FP rate \n",
    "- ROC 곡선의 면적이 auc "
   ]
  }
 ],
 "metadata": {
  "kernelspec": {
   "display_name": "Python 3 (ipykernel)",
   "language": "python",
   "name": "python3"
  },
  "language_info": {
   "codemirror_mode": {
    "name": "ipython",
    "version": 3
   },
   "file_extension": ".py",
   "mimetype": "text/x-python",
   "name": "python",
   "nbconvert_exporter": "python",
   "pygments_lexer": "ipython3",
   "version": "3.9.13"
  }
 },
 "nbformat": 4,
 "nbformat_minor": 5
}
