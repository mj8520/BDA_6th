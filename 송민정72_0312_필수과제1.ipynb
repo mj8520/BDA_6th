{
 "cells": [
  {
   "cell_type": "markdown",
   "id": "e2e2844e",
   "metadata": {},
   "source": [
    "# micro, macro, weighted 차이\n",
    "\n",
    "우선 이들의 공통점은 target이 이진이 아닐때 쓰인다.\n",
    "따라서 기준에 따라 TP, TN, FP, FN이 달라진다\n",
    "\n",
    "- micro \n",
    "    : micro는 분류 기준에 따라 각기 다른 TP, TN, FP, FN들을 합하여 total TP, TN, FN, FP를 만들어 이들을 이용하여 accuracy, precision, recall, f1-score 등을 구한다.\n",
    "- macro \n",
    "    : micro와 달리 각 기준에서 accracy, precision, recall, fi-score 등 평가지표를 먼저 구하고, 각 지표들의 평균이 평가지표가 된다. 산술평균으로 구함.\n",
    "- weighted \n",
    "    : macro처럼 지표들의 평균을 구하되, target 중 각 calss의 비율에 따라 가중치를 부여한다. 즉 가중평균인 것."
   ]
  },
  {
   "cell_type": "code",
   "execution_count": 17,
   "id": "2f88fcc3",
   "metadata": {},
   "outputs": [],
   "source": [
    "from sklearn.datasets import load_iris\n",
    "from sklearn.tree import DecisionTreeClassifier\n",
    "from sklearn.model_selection import train_test_split\n",
    "from sklearn.metrics import accuracy_score, precision_score, recall_score #Confusion matrix 수업 때 진행할 예정 \n",
    "from sklearn.model_selection import StratifiedKFold\n",
    "from sklearn.metrics import classification_report\n",
    "import numpy as np\n",
    "import pandas as pd"
   ]
  },
  {
   "cell_type": "code",
   "execution_count": 34,
   "id": "9aedd739",
   "metadata": {},
   "outputs": [],
   "source": [
    "iris=load_iris()\n",
    "features=iris.data\n",
    "label=iris.target\n",
    "\n",
    "#features, label 만들기"
   ]
  },
  {
   "cell_type": "code",
   "execution_count": 71,
   "id": "3e34c010",
   "metadata": {},
   "outputs": [],
   "source": [
    "iris_df=pd.DataFrame(data=iris_data, columns=iris.feature_names)\n",
    "iris_df['target']=iris.target\n",
    "\n",
    "#features와 label 다 들어있는 dataframe 만들기"
   ]
  },
  {
   "cell_type": "code",
   "execution_count": 87,
   "id": "9fe709ad",
   "metadata": {
    "scrolled": true
   },
   "outputs": [
    {
     "name": "stdout",
     "output_type": "stream",
     "text": [
      "\n",
      "1 교차검증 정확도 : 0.96667, 교차검증 precision :0.9697, 교차검증 recall :0.96667\n",
      "\n",
      "2 교차검증 정확도 : 0.96667, 교차검증 precision :0.9697, 교차검증 recall :0.96667\n",
      "\n",
      "3 교차검증 정확도 : 0.9, 교차검증 precision :0.90236, 교차검증 recall :0.9\n",
      "\n",
      "4 교차검증 정확도 : 0.93333, 교차검증 precision :0.93333, 교차검증 recall :0.93333\n",
      "\n",
      "5 교차검증 정확도 : 1.0, 교차검증 precision :1.0, 교차검증 recall :1.0\n",
      "\n",
      "\n",
      "\n",
      " macro 평균 검증 정확도  0.9533340000000001 0.9550179999999999 0.9533340000000001\n"
     ]
    }
   ],
   "source": [
    "str_kfold=StratifiedKFold(n_splits=5)\n",
    "DT=DecisionTreeClassifier()\n",
    "n_iter=0\n",
    "\n",
    "cv_accuracy=[]\n",
    "cv_recall=[]\n",
    "cv_precision=[]\n",
    "\n",
    "\n",
    "for train_idx, test_idx in str_kfold.split(features, label):\n",
    "    X_train, X_test = features[train_idx], features[test_idx]\n",
    "    y_train, y_test = label[train_idx], label[test_idx]\n",
    "    \n",
    "    #학습\n",
    "    DT.fit(X_train, y_train)\n",
    "    #예측\n",
    "    pred=DT.predict(X_test)\n",
    "    \n",
    "    #정확도 측정\n",
    "    n_iter +=1\n",
    "    accuracy= np.round(accuracy_score(y_test, pred),5)\n",
    "    precision= np.round(precision_score(y_test, pred, average='macro'),5)\n",
    "    recall= np.round(recall_score(y_test, pred, average='macro'),5)\n",
    "    print('\\n{} 교차검증 정확도 : {}, 교차검증 precision :{}, 교차검증 recall :{}'.format(n_iter, accuracy, precision, recall))\n",
    "    cv_accuracy.append(accuracy)\n",
    "    cv_precision.append(precision)\n",
    "    cv_recall.append(recall)\n",
    "    \n",
    "print('\\n')\n",
    "print('\\n macro 평균 검증 정확도 ', np.mean(cv_accuracy), np.mean(cv_precision), np.mean(cv_recall)) "
   ]
  },
  {
   "cell_type": "code",
   "execution_count": 88,
   "id": "4fa75b2b",
   "metadata": {},
   "outputs": [
    {
     "name": "stdout",
     "output_type": "stream",
     "text": [
      "\n",
      "1 교차검증 정확도 : 0.96667, 교차검증 precision :0.96667, 교차검증 recall :0.96667\n",
      "\n",
      "2 교차검증 정확도 : 0.96667, 교차검증 precision :0.96667, 교차검증 recall :0.96667\n",
      "\n",
      "3 교차검증 정확도 : 0.9, 교차검증 precision :0.9, 교차검증 recall :0.9\n",
      "\n",
      "4 교차검증 정확도 : 1.0, 교차검증 precision :1.0, 교차검증 recall :1.0\n",
      "\n",
      "5 교차검증 정확도 : 1.0, 교차검증 precision :1.0, 교차검증 recall :1.0\n",
      "\n",
      "\n",
      "\n",
      " micro 평균 검증 정확도  0.966668 0.966668 0.966668\n"
     ]
    }
   ],
   "source": [
    "str_kfold=StratifiedKFold(n_splits=5)\n",
    "DT=DecisionTreeClassifier()\n",
    "n_iter=0\n",
    "\n",
    "cv_accuracy=[]\n",
    "cv_recall=[]\n",
    "cv_precision=[]\n",
    "\n",
    "\n",
    "for train_idx, test_idx in str_kfold.split(features, label):\n",
    "    X_train, X_test = features[train_idx], features[test_idx]\n",
    "    y_train, y_test = label[train_idx], label[test_idx]\n",
    "    \n",
    "    #학습\n",
    "    DT.fit(X_train, y_train)\n",
    "    #예측\n",
    "    pred=DT.predict(X_test)\n",
    "    \n",
    "    #정확도 측정\n",
    "    n_iter +=1\n",
    "    accuracy= np.round(accuracy_score(y_test, pred),5)\n",
    "    precision= np.round(precision_score(y_test, pred, average='micro'),5)\n",
    "    recall= np.round(recall_score(y_test, pred, average='micro'),5)\n",
    "    print('\\n{} 교차검증 정확도 : {}, 교차검증 precision :{}, 교차검증 recall :{}'.format(n_iter, accuracy, precision, recall))\n",
    "    cv_accuracy.append(accuracy)\n",
    "    cv_precision.append(precision)\n",
    "    cv_recall.append(recall)\n",
    "    \n",
    "print('\\n')\n",
    "print('\\n micro 평균 검증 정확도 ', np.mean(cv_accuracy), np.mean(cv_precision), np.mean(cv_recall)) "
   ]
  },
  {
   "cell_type": "code",
   "execution_count": 89,
   "id": "a6a3576d",
   "metadata": {
    "scrolled": true
   },
   "outputs": [
    {
     "name": "stdout",
     "output_type": "stream",
     "text": [
      "\n",
      "1 교차검증 정확도 : 0.96667, 교차검증 precision :0.9697, 교차검증 recall :0.96667\n",
      "\n",
      "2 교차검증 정확도 : 0.96667, 교차검증 precision :0.9697, 교차검증 recall :0.96667\n",
      "\n",
      "3 교차검증 정확도 : 0.9, 교차검증 precision :0.90236, 교차검증 recall :0.9\n",
      "\n",
      "4 교차검증 정확도 : 1.0, 교차검증 precision :1.0, 교차검증 recall :1.0\n",
      "\n",
      "5 교차검증 정확도 : 1.0, 교차검증 precision :1.0, 교차검증 recall :1.0\n",
      "\n",
      "\n",
      "\n",
      " wieghted 평균 검증 정확도  0.966668 0.968352 0.966668\n"
     ]
    }
   ],
   "source": [
    "str_kfold=StratifiedKFold(n_splits=5)\n",
    "DT=DecisionTreeClassifier()\n",
    "n_iter=0\n",
    "\n",
    "cv_accuracy=[]\n",
    "cv_recall=[]\n",
    "cv_precision=[]\n",
    "\n",
    "\n",
    "for train_idx, test_idx in str_kfold.split(features, label):\n",
    "    X_train, X_test = features[train_idx], features[test_idx]\n",
    "    y_train, y_test = label[train_idx], label[test_idx]\n",
    "    \n",
    "    #학습\n",
    "    DT.fit(X_train, y_train)\n",
    "    #예측\n",
    "    pred=DT.predict(X_test)\n",
    "    \n",
    "    #정확도 측정\n",
    "    n_iter +=1\n",
    "    accuracy= np.round(accuracy_score(y_test, pred),5)\n",
    "    precision= np.round(precision_score(y_test, pred, average='weighted'),5)\n",
    "    recall= np.round(recall_score(y_test, pred, average='weighted'),5)\n",
    "    print('\\n{} 교차검증 정확도 : {}, 교차검증 precision :{}, 교차검증 recall :{}'.format(n_iter, accuracy, precision, recall))\n",
    "    cv_accuracy.append(accuracy)\n",
    "    cv_precision.append(precision)\n",
    "    cv_recall.append(recall)\n",
    "    \n",
    "print('\\n')\n",
    "print('\\n wieghted 평균 검증 정확도 ', np.mean(cv_accuracy), np.mean(cv_precision), np.mean(cv_recall)) "
   ]
  },
  {
   "cell_type": "code",
   "execution_count": 86,
   "id": "72a2b245",
   "metadata": {},
   "outputs": [],
   "source": []
  }
 ],
 "metadata": {
  "kernelspec": {
   "display_name": "Python 3 (ipykernel)",
   "language": "python",
   "name": "python3"
  },
  "language_info": {
   "codemirror_mode": {
    "name": "ipython",
    "version": 3
   },
   "file_extension": ".py",
   "mimetype": "text/x-python",
   "name": "python",
   "nbconvert_exporter": "python",
   "pygments_lexer": "ipython3",
   "version": "3.9.13"
  }
 },
 "nbformat": 4,
 "nbformat_minor": 5
}
